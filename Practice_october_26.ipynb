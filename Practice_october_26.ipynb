{
 "cells": [
  {
   "cell_type": "markdown",
   "id": "edeceebf-5caf-4875-9e85-c46bb4f8509c",
   "metadata": {},
   "source": [
    "# Introduction"
   ]
  },
  {
   "cell_type": "code",
   "execution_count": 94,
   "id": "03cb1531-693d-40c2-b86d-88f1fb042414",
   "metadata": {
    "scrolled": true
   },
   "outputs": [
    {
     "data": {
      "text/html": [
       "\n",
       "            <div>\n",
       "                <p><b>SparkSession - in-memory</b></p>\n",
       "                \n",
       "        <div>\n",
       "            <p><b>SparkContext</b></p>\n",
       "\n",
       "            <p><a href=\"http://44313117e328:4041\">Spark UI</a></p>\n",
       "\n",
       "            <dl>\n",
       "              <dt>Version</dt>\n",
       "                <dd><code>v3.5.0</code></dd>\n",
       "              <dt>Master</dt>\n",
       "                <dd><code>local[*]</code></dd>\n",
       "              <dt>AppName</dt>\n",
       "                <dd><code>pyspark-shell</code></dd>\n",
       "            </dl>\n",
       "        </div>\n",
       "        \n",
       "            </div>\n",
       "        "
      ],
      "text/plain": [
       "<pyspark.sql.session.SparkSession at 0x7fb2601d9290>"
      ]
     },
     "execution_count": 94,
     "metadata": {},
     "output_type": "execute_result"
    }
   ],
   "source": [
    "#Reset kernel when start this notebook\n",
    "from pyspark.sql import SparkSession\n",
    "from pyspark import SparkContext, SparkConf\n",
    "import time\n",
    "\n",
    "spark = SparkSession.builder.master('local[*]').getOrCreate()\n",
    "\n",
    "sc = spark.sparkContext\n",
    "\n",
    "spark"
   ]
  },
  {
   "cell_type": "code",
   "execution_count": 95,
   "id": "2e0c4661-c3bd-4fbe-b6f2-7fb4f1a24f8c",
   "metadata": {},
   "outputs": [
    {
     "name": "stdout",
     "output_type": "stream",
     "text": [
      "Your runtime has 8.0 gigabytes of available RAM\n",
      "\n"
     ]
    }
   ],
   "source": [
    "\n",
    "from psutil import virtual_memory\n",
    "ram_gb = virtual_memory().total / 1e9\n",
    "print('Your runtime has {:.1f} gigabytes of available RAM\\n'.format(ram_gb))\n"
   ]
  },
  {
   "cell_type": "code",
   "execution_count": 96,
   "id": "141d6106-c7b1-46db-876f-fc4bc164f1e2",
   "metadata": {},
   "outputs": [
    {
     "data": {
      "text/plain": [
       "16"
      ]
     },
     "execution_count": 96,
     "metadata": {},
     "output_type": "execute_result"
    }
   ],
   "source": [
    "spark.sparkContext.defaultParallelism"
   ]
  },
  {
   "cell_type": "markdown",
   "id": "e14db674-e957-4ac4-920d-edfa623ae958",
   "metadata": {},
   "source": [
    "# Data Analysis\n",
    "\n",
    "* As Spark Dataframes operations are lazy, we need to use show() to trigger the computation and see the results"
   ]
  },
  {
   "cell_type": "markdown",
   "id": "25f51b6c-f47b-4514-bef4-030115890e11",
   "metadata": {},
   "source": [
    "Data dictionary of this dataset can be found in the following link:\n",
    "https://www.nyc.gov/assets/tlc/downloads/pdf/data_dictionary_trip_records_yellow.pdf"
   ]
  },
  {
   "cell_type": "code",
   "execution_count": 75,
   "id": "ffba63c1-f2e9-47bb-9596-05ea2166c3c5",
   "metadata": {
    "scrolled": true
   },
   "outputs": [],
   "source": [
    "sdf = spark.read.format(\"parquet\").option(\"inferSchema\", \"true\").option(\"timestampFormat\",\"yyyy-MM-dd HH:mm:ss\").option(\"header\", \"true\").option(\"mode\", \"DROPMALFORMED\").load(\"../dataset/yellow_tripdata_2017-01.parquet\")"
   ]
  },
  {
   "cell_type": "code",
   "execution_count": 76,
   "id": "0bb1126c-a338-49d3-aae5-aac94c179f74",
   "metadata": {},
   "outputs": [
    {
     "name": "stdout",
     "output_type": "stream",
     "text": [
      "root\n",
      " |-- VendorID: long (nullable = true)\n",
      " |-- tpep_pickup_datetime: timestamp_ntz (nullable = true)\n",
      " |-- tpep_dropoff_datetime: timestamp_ntz (nullable = true)\n",
      " |-- passenger_count: long (nullable = true)\n",
      " |-- trip_distance: double (nullable = true)\n",
      " |-- RatecodeID: long (nullable = true)\n",
      " |-- store_and_fwd_flag: string (nullable = true)\n",
      " |-- PULocationID: long (nullable = true)\n",
      " |-- DOLocationID: long (nullable = true)\n",
      " |-- payment_type: long (nullable = true)\n",
      " |-- fare_amount: double (nullable = true)\n",
      " |-- extra: double (nullable = true)\n",
      " |-- mta_tax: double (nullable = true)\n",
      " |-- tip_amount: double (nullable = true)\n",
      " |-- tolls_amount: double (nullable = true)\n",
      " |-- improvement_surcharge: double (nullable = true)\n",
      " |-- total_amount: double (nullable = true)\n",
      " |-- congestion_surcharge: integer (nullable = true)\n",
      " |-- airport_fee: integer (nullable = true)\n",
      "\n"
     ]
    }
   ],
   "source": [
    "#Check the type of data of each column\n",
    "sdf.printSchema()"
   ]
  },
  {
   "cell_type": "code",
   "execution_count": 77,
   "id": "190b1825-7976-4a94-860f-489d403f856f",
   "metadata": {
    "scrolled": true
   },
   "outputs": [
    {
     "data": {
      "text/plain": [
       "9710820"
      ]
     },
     "execution_count": 77,
     "metadata": {},
     "output_type": "execute_result"
    }
   ],
   "source": [
    "#See the number of records\n",
    "sdf.count()"
   ]
  },
  {
   "cell_type": "markdown",
   "id": "fe791754-a293-49b9-8621-877d1ced429e",
   "metadata": {
    "jp-MarkdownHeadingCollapsed": true
   },
   "source": [
    "## Null values"
   ]
  },
  {
   "cell_type": "code",
   "execution_count": null,
   "id": "9c0c5b6c-7e2f-4c4b-9192-0d577a355440",
   "metadata": {},
   "outputs": [],
   "source": [
    "from pyspark.sql.functions import col, sum, when, expr"
   ]
  },
  {
   "cell_type": "code",
   "execution_count": null,
   "id": "60b37e72-4365-4630-908f-69ce517ab701",
   "metadata": {
    "scrolled": true
   },
   "outputs": [],
   "source": [
    "# Create a list of expressions that count null values for each column\n",
    "null_counts = [sum(when(col(c).isNull(), 1).otherwise(0)).alias(c) for c in sdf.columns]\n",
    "\n",
    "# Apply the expressions to the DataFrame and display the result\n",
    "# The '*' is used to unpack the list and pass each expression as separete arg\n",
    "# The agg funciton is to apply the expressions to the dataframe 'sdf'\n",
    "sdf.agg(*null_counts).show()"
   ]
  },
  {
   "cell_type": "code",
   "execution_count": null,
   "id": "1b65e126-fc52-496f-b166-b81c63466c3c",
   "metadata": {},
   "outputs": [],
   "source": [
    "#The 'congestion_surcharge' and 'airport_fee' columns are null, let's remove them\n",
    "sdf = sdf.drop(*[\"congestion_surcharge\",\"airport_fee\"])"
   ]
  },
  {
   "cell_type": "markdown",
   "id": "b07a87c9-d189-4957-b820-bf81e3dbc819",
   "metadata": {
    "jp-MarkdownHeadingCollapsed": true
   },
   "source": [
    "Null Values by RDD"
   ]
  },
  {
   "cell_type": "markdown",
   "id": "b08334f5-cf52-452a-98a7-cdcd35e2cc2a",
   "metadata": {},
   "source": [
    "Null Values by DataFrame"
   ]
  },
  {
   "cell_type": "markdown",
   "id": "caec7753-2a3d-473d-965e-3b4516af5414",
   "metadata": {},
   "source": [
    "Null Values by SQL"
   ]
  },
  {
   "cell_type": "markdown",
   "id": "3c48e9bb-48c3-4e60-ad0c-0c4bf8de3714",
   "metadata": {},
   "source": [
    "## Take a sample from the dataset\n",
    "Select a set of records randomly to limit the size of the dataset, thus executing operations easier"
   ]
  },
  {
   "cell_type": "code",
   "execution_count": 15,
   "id": "66aaf2bf-31c4-43ca-a79b-22986bd352c3",
   "metadata": {},
   "outputs": [],
   "source": [
    "#Opcional para reducir los datos\n",
    "#sdf = sdf.sample(withReplacement=False, fraction=0.5, seed=15)\n",
    "#new_size = sdf.count()\n",
    "#print(f\"Size of the sample '{new_size}'\")"
   ]
  },
  {
   "cell_type": "markdown",
   "id": "9124a1f7-a4f7-480a-bcd5-968033957079",
   "metadata": {},
   "source": [
    "# Estudio #1 -  "
   ]
  },
  {
   "cell_type": "code",
   "execution_count": null,
   "id": "4c56b6bd-9003-4049-be7a-32e05ce83899",
   "metadata": {},
   "outputs": [],
   "source": []
  },
  {
   "cell_type": "markdown",
   "id": "db7ed995-694d-47ac-b9b9-ff6c5888f896",
   "metadata": {},
   "source": [
    "# Estudio #2 - "
   ]
  },
  {
   "cell_type": "code",
   "execution_count": null,
   "id": "2a4dec12-308b-4b32-9132-d3c0c5570fcc",
   "metadata": {},
   "outputs": [],
   "source": []
  },
  {
   "cell_type": "markdown",
   "id": "dc267d1b-743a-40e9-a232-6521e28e4b27",
   "metadata": {},
   "source": [
    "# Estudio #3 - "
   ]
  },
  {
   "cell_type": "code",
   "execution_count": null,
   "id": "4d609925-d888-40d0-a263-c482afb8c6f2",
   "metadata": {},
   "outputs": [],
   "source": []
  },
  {
   "cell_type": "markdown",
   "id": "0c024467-e362-44a2-8412-d14bad3fe653",
   "metadata": {},
   "source": [
    "# Estudio #4 - Taxi Velocity average in each hour"
   ]
  },
  {
   "cell_type": "markdown",
   "id": "15c23db2-6d35-42a3-95e9-2ce3af3b7135",
   "metadata": {},
   "source": [
    "## DATAFRAME"
   ]
  },
  {
   "cell_type": "code",
   "execution_count": 78,
   "id": "9a411be8-da05-4503-b87a-bc373f14c404",
   "metadata": {},
   "outputs": [
    {
     "name": "stdout",
     "output_type": "stream",
     "text": [
      "+-----------+------------------+\n",
      "|hour_pickup|       VelocityAvg|\n",
      "+-----------+------------------+\n",
      "|          0|17.135377162085373|\n",
      "|          1|  17.7084494704235|\n",
      "|          2|18.005655850937046|\n",
      "|          3|18.156252751944653|\n",
      "|          4| 20.76540968125122|\n",
      "|          5| 22.53105310024046|\n",
      "|          6|18.062101710891028|\n",
      "|          7|13.693853937236215|\n",
      "|          8|11.674041169497219|\n",
      "|          9|11.739438524116354|\n",
      "|         10| 12.19164877672022|\n",
      "|         11|11.970101055787831|\n",
      "|         12|12.047918921365886|\n",
      "|         13|12.541032414917348|\n",
      "|         14|11.874196223496451|\n",
      "|         15|11.606618169769838|\n",
      "|         16|12.391826175756417|\n",
      "|         17|11.713800892106143|\n",
      "|         18| 11.60556837151269|\n",
      "|         19|12.547998876114262|\n",
      "|         20|13.913271912840372|\n",
      "|         21|  15.1267632937441|\n",
      "|         22|15.818566971052546|\n",
      "|         23|17.170343696303483|\n",
      "+-----------+------------------+\n",
      "\n"
     ]
    }
   ],
   "source": [
    "#Operations reduced\n",
    "from pyspark.sql.functions import hour, udf, avg, col\n",
    "from pyspark.sql.types import IntegerType, StringType\n",
    "\n",
    "#convert to seconds manually through User defined functions (UDF)\n",
    "def interval_to_seconds(interval):\n",
    "    total_seconds = interval.total_seconds()\n",
    "    return int(total_seconds)\n",
    "\n",
    "interval_to_seconds_udf = udf(interval_to_seconds, IntegerType())\n",
    "\n",
    "# START THE TIMER\n",
    "DFstarttime = time.time()\n",
    "sdfDF = sdf.withColumn(\"duration\", col(\"tpep_dropoff_datetime\")-col(\"tpep_pickup_datetime\"))\n",
    "sdfDF = sdfDF.withColumn(\"duration\", (interval_to_seconds_udf(col(\"duration\")) / 3600))\n",
    "sdfDF = sdfDF.filter(col(\"duration\") > 0)\n",
    "sdfDF = sdfDF.withColumn(\"velocity\",col(\"trip_distance\")/col(\"duration\"))\n",
    "sdfDF = sdfDF.withColumn(\"hour_pickup\", hour(col(\"tpep_pickup_datetime\")))\n",
    "sdfDF = sdfDF.withColumn(\"hour_dropoff\", hour(col(\"tpep_dropoff_datetime\")))\n",
    "\n",
    "result_df = sdfDF.groupBy(\"hour_pickup\").agg(avg(\"velocity\").alias(\"VelocityAvg\")).orderBy(\"hour_pickup\")\n",
    "result_df.show(24)\n",
    "#STOP TIMER\n",
    "DFendtime = time.time()"
   ]
  },
  {
   "cell_type": "code",
   "execution_count": 79,
   "id": "99527e6f-ea02-4ffa-9be9-aec9368e7164",
   "metadata": {},
   "outputs": [
    {
     "name": "stdout",
     "output_type": "stream",
     "text": [
      "45.459200859069824\n"
     ]
    }
   ],
   "source": [
    "ExecTime = DFendtime - DFstarttime \n",
    "print(ExecTime)"
   ]
  },
  {
   "cell_type": "code",
   "execution_count": null,
   "id": "e4f72fdf-0156-4f33-8539-a4be3da889ba",
   "metadata": {
    "scrolled": true
   },
   "outputs": [],
   "source": [
    "#Let's calculate the difference of time between the pick-up and the drop-off\n",
    "sdf = sdf.withColumn(\"duration\", col(\"tpep_dropoff_datetime\")-col(\"tpep_pickup_datetime\"))\n",
    "sdf.select(\"duration\").show()"
   ]
  },
  {
   "cell_type": "markdown",
   "id": "751e7103-6b65-44b2-b9d1-5470676b2725",
   "metadata": {},
   "source": [
    "### Check duration of trips"
   ]
  },
  {
   "cell_type": "code",
   "execution_count": null,
   "id": "70838589-85c0-4950-bde3-763805f2d4ab",
   "metadata": {},
   "outputs": [],
   "source": [
    "from pyspark.sql.functions import udf\n",
    "from pyspark.sql.types import IntegerType, StringType\n",
    "\n",
    "#convert to seconds manually through User defined functions (UDF)\n",
    "def interval_to_seconds(interval):\n",
    "    total_seconds = interval.total_seconds()\n",
    "    return int(total_seconds)\n",
    "\n",
    "interval_to_seconds_udf = udf(interval_to_seconds, IntegerType())"
   ]
  },
  {
   "cell_type": "code",
   "execution_count": null,
   "id": "cff39711-5420-4e5b-857c-5e641ad652c3",
   "metadata": {
    "scrolled": true
   },
   "outputs": [],
   "source": [
    "# Use the UDF to extract seconds and store in a new column\n",
    "sdf = sdf.withColumn(\"duration\", interval_to_seconds_udf(col(\"duration\")))\n",
    "\n",
    "# Show the DataFrame with the extracted seconds\n",
    "sdf.select(\"duration\").show()"
   ]
  },
  {
   "cell_type": "code",
   "execution_count": null,
   "id": "414615b9-da6a-4f7e-8615-1c8b094c4b51",
   "metadata": {
    "scrolled": true
   },
   "outputs": [],
   "source": [
    "#Let's check for some anomalities in this column\n",
    "sdf.filter(col(\"duration\") < 0).show()"
   ]
  },
  {
   "cell_type": "code",
   "execution_count": null,
   "id": "6eab7a43-5067-4009-af25-34471244d871",
   "metadata": {},
   "outputs": [],
   "source": [
    "sdf.filter(col(\"duration\") == 0).show()"
   ]
  },
  {
   "cell_type": "markdown",
   "id": "8f3e4518-14c4-427d-8f02-486bb753843e",
   "metadata": {},
   "source": [
    "All the above records shows that all the trips where finished at the same time when started.\n",
    "\n",
    "Because of all these records, we proceed to remove them"
   ]
  },
  {
   "cell_type": "code",
   "execution_count": null,
   "id": "9d695b99-fc1d-4d1a-8ffc-2e07185a255f",
   "metadata": {},
   "outputs": [],
   "source": [
    "sdf = sdf.filter(col(\"duration\") > 0)\n",
    "size_after_reduction = sdf.count()\n",
    "print(f\"Size of the sample '{size_after_reduction}'\")"
   ]
  },
  {
   "cell_type": "markdown",
   "id": "1e0810b6-6b7f-4d1a-b25b-9339fadb671f",
   "metadata": {},
   "source": [
    "### Calculate Velocity of each trip"
   ]
  },
  {
   "cell_type": "code",
   "execution_count": null,
   "id": "d83effc8-8f80-4f1d-8a24-61ba4a64da98",
   "metadata": {
    "scrolled": true
   },
   "outputs": [],
   "source": [
    "#As the duration column is in seconds, we have to divide the value between 3600 to the value in hour units.\n",
    "sdf = sdf.withColumn(\"velocity\",col(\"trip_distance\")/(col(\"duration\")/3600))\n",
    "sdf.select(\"velocity\").show()"
   ]
  },
  {
   "cell_type": "markdown",
   "id": "1f87d01f-11fe-46b2-bd1b-5392d8432b65",
   "metadata": {},
   "source": [
    "*The units of these values are miles per hour"
   ]
  },
  {
   "cell_type": "markdown",
   "id": "efa40935-daae-416c-9257-5c1cbde91b72",
   "metadata": {},
   "source": [
    "### Calculate avg per hour"
   ]
  },
  {
   "cell_type": "code",
   "execution_count": null,
   "id": "6974b01d-4af3-46a4-847d-c0e53892641a",
   "metadata": {},
   "outputs": [],
   "source": [
    "from pyspark.sql.functions import hour"
   ]
  },
  {
   "cell_type": "code",
   "execution_count": null,
   "id": "e9bcd1ba-e61e-4736-b2ee-71138bb0efac",
   "metadata": {},
   "outputs": [],
   "source": [
    "sdf = sdf.withColumn(\"hour_pickup\", hour(col(\"tpep_pickup_datetime\")))\n",
    "sdf = sdf.withColumn(\"hour_dropoff\", hour(col(\"tpep_dropoff_datetime\")))\n",
    "sdf.show()"
   ]
  },
  {
   "cell_type": "code",
   "execution_count": null,
   "id": "82fa5b6e-2bb0-4d8a-b237-7a602d224721",
   "metadata": {},
   "outputs": [],
   "source": [
    "from pyspark.sql.functions import avg, max, min"
   ]
  },
  {
   "cell_type": "code",
   "execution_count": null,
   "id": "1b778bae-b6ae-4a74-8dac-25754cba150d",
   "metadata": {
    "scrolled": true
   },
   "outputs": [],
   "source": [
    "result_df = sdf.groupBy(\"hour_pickup\").agg(avg(\"velocity\").alias(\"VelocityAvg\")).orderBy(\"hour_pickup\")\n",
    "\n",
    "# Show the resulting DataFrame\n",
    "result_df.show(24)"
   ]
  },
  {
   "cell_type": "markdown",
   "id": "5e055078-c20f-477f-859c-44a358f14b59",
   "metadata": {},
   "source": [
    "### Visualize results"
   ]
  },
  {
   "cell_type": "code",
   "execution_count": null,
   "id": "5d2840f2-32b2-4cf7-b395-0c806b90901e",
   "metadata": {},
   "outputs": [],
   "source": [
    "import seaborn as sns\n",
    "import matplotlib.pyplot as plt\n",
    "from matplotlib.ticker import FuncFormatter, ScalarFormatter"
   ]
  },
  {
   "cell_type": "code",
   "execution_count": null,
   "id": "b990cbd2-9786-4eca-81c9-c0f208ba6254",
   "metadata": {},
   "outputs": [],
   "source": [
    "max = result_df.agg(max(\"VelocityAvg\")).collect()[0][0]\n",
    "min = result_df.agg(min(\"VelocityAvg\")).collect()[0][0]"
   ]
  },
  {
   "cell_type": "code",
   "execution_count": null,
   "id": "17636826-3ce0-4905-989f-92ec8010b6d5",
   "metadata": {},
   "outputs": [],
   "source": [
    "center_value = (max/min)/2"
   ]
  },
  {
   "cell_type": "code",
   "execution_count": null,
   "id": "595e2115-8788-4610-bf53-dc1a60aafd0c",
   "metadata": {},
   "outputs": [],
   "source": [
    "# Define a custom color mapping based on numeric values\n",
    "def custom_color_palette(x):\n",
    "    if x <= center_value:\n",
    "        return \"lightblue\"  # Light blue for values less than 50\n",
    "    else:\n",
    "        return \"lightred\"  # Light green for values between 50 and 100\n",
    "\n",
    "custom_color_palette_udf = udf(custom_color_palette, StringType())\n",
    "\n",
    "result_df = result_df.withColumn(\"Color\", custom_color_palette_udf(col(\"VelocityAvg\")))"
   ]
  },
  {
   "cell_type": "code",
   "execution_count": null,
   "id": "9406d270-4b8a-45b2-a3f9-41f6ce14c755",
   "metadata": {},
   "outputs": [],
   "source": [
    "plt.figure(figsize=(10, 6))\n",
    "result_df_p = result_df.toPandas()\n",
    "barplot = sns.barplot(data=result_df_p, x=\"hour_pickup\", y=\"VelocityAvg\")\n",
    "plt.xlabel(\"Hour\")\n",
    "plt.ylabel(\"Average velocity\")\n",
    "\n",
    "# Show the plot\n",
    "plt.show()"
   ]
  },
  {
   "cell_type": "code",
   "execution_count": null,
   "id": "d245c099-ef11-4235-aa4a-ac52f6a3b90f",
   "metadata": {},
   "outputs": [],
   "source": []
  },
  {
   "cell_type": "markdown",
   "id": "cd6297d0-3e14-47df-87b4-a2b77cad35f8",
   "metadata": {},
   "source": [
    "## RDD"
   ]
  },
  {
   "cell_type": "code",
   "execution_count": 80,
   "id": "b3de858b-86fa-4ebe-87dc-ef2f3b584307",
   "metadata": {},
   "outputs": [],
   "source": [
    "RDDstarttime = time.time()"
   ]
  },
  {
   "cell_type": "code",
   "execution_count": 81,
   "id": "1de6abc0-a266-480e-9d2e-32b5d2adb580",
   "metadata": {},
   "outputs": [],
   "source": [
    "# Filtra las columnas que tengan campos Nulls y filtra filas que tengan tiempos Cero entre la diferencia de Llegada y Recogida\n",
    "filtered = sdf.rdd.filter(lambda x: x[1] is not None and x[2] is not None and x[4] is not None).filter(lambda x: (x[2] - x[1]).seconds > 0)"
   ]
  },
  {
   "cell_type": "code",
   "execution_count": 82,
   "id": "31a0ddec-df8c-4ee8-97a1-77ff8ffb3c0c",
   "metadata": {},
   "outputs": [],
   "source": [
    "# Hace un mapeo de la hora recogida, la velocidad en la hora y un contador\n",
    "mapped = filtered.map(lambda x: (x[1].hour, (x[4]/(((x[2] - x[1]).seconds)/3600), 1)))"
   ]
  },
  {
   "cell_type": "code",
   "execution_count": 83,
   "id": "0a59db2a-7698-47bc-8320-f5d0a8d320d4",
   "metadata": {},
   "outputs": [],
   "source": [
    "# Realiza el Reduce en Referencia a la hora y Sumando Contador y Velocidades\n",
    "result = mapped.reduceByKey(lambda x, y: (x[0] + y[0], x[1] + y[1]))"
   ]
  },
  {
   "cell_type": "code",
   "execution_count": 84,
   "id": "9cb431c3-b458-4945-8f26-e13bcda9a62b",
   "metadata": {},
   "outputs": [
    {
     "data": {
      "text/plain": [
       "[(0, 17.135377162085373),\n",
       " (1, 17.7084494704235),\n",
       " (2, 18.005655850937046),\n",
       " (3, 18.156252751944653),\n",
       " (4, 20.76540968125122),\n",
       " (5, 22.53105310024046),\n",
       " (6, 18.062101710891028),\n",
       " (7, 13.693853937236215),\n",
       " (8, 11.674041169497219),\n",
       " (9, 11.739438524116354),\n",
       " (10, 12.19164877672022),\n",
       " (11, 11.970101055787831),\n",
       " (12, 12.047918921365886),\n",
       " (13, 12.541032414917348),\n",
       " (14, 11.874196223496451),\n",
       " (15, 11.60659330518431),\n",
       " (16, 12.391826175756417),\n",
       " (17, 11.713800892106143),\n",
       " (18, 11.605549669453614),\n",
       " (19, 12.547998876114262),\n",
       " (20, 13.913271912840372),\n",
       " (21, 15.1267632937441),\n",
       " (22, 15.818566971052546),\n",
       " (23, 17.170343696303483)]"
      ]
     },
     "execution_count": 84,
     "metadata": {},
     "output_type": "execute_result"
    }
   ],
   "source": [
    "# Obtiene los promedios de las velocidades por hora y los muestra en pantalla\n",
    "result.map(lambda x: (x[0], x[1][0] / x[1][1] )).sortBy(lambda x: x[0], True).take(24)"
   ]
  },
  {
   "cell_type": "code",
   "execution_count": 85,
   "id": "82d04152-67a9-4beb-8dc8-7d1c8435558d",
   "metadata": {},
   "outputs": [],
   "source": [
    "RDDendtime = time.time()"
   ]
  },
  {
   "cell_type": "markdown",
   "id": "e9dd395c-75ec-4bdf-8b89-7e119bb4a514",
   "metadata": {},
   "source": [
    "#SPEEDUP RDD"
   ]
  },
  {
   "cell_type": "code",
   "execution_count": 86,
   "id": "cd5234e5-1a7e-4ba7-a1b1-b181237d0344",
   "metadata": {},
   "outputs": [
    {
     "name": "stdout",
     "output_type": "stream",
     "text": [
      "108.49324607849121\n"
     ]
    }
   ],
   "source": [
    "ExecTime = RDDendtime - RDDstarttime \n",
    "print(ExecTime)"
   ]
  },
  {
   "cell_type": "markdown",
   "id": "d8894699-26e6-4dd2-b6d3-7216069fdd92",
   "metadata": {},
   "source": [
    "## SQL"
   ]
  },
  {
   "cell_type": "code",
   "execution_count": 90,
   "id": "00417eb4-0b7f-4152-9b36-e067fbb8e5f1",
   "metadata": {},
   "outputs": [],
   "source": [
    "SQLstarttime = time.time()\n",
    "#Los datos leídos los sube a memoria en una tabla temporal\n",
    "sdf.createOrReplaceTempView('tabledataset')"
   ]
  },
  {
   "cell_type": "code",
   "execution_count": 91,
   "id": "0ef05381-fa57-4e60-bd2b-1b220780848c",
   "metadata": {},
   "outputs": [],
   "source": [
    "#Let's calculate the difference of time between the pick-up and the drop-off in seconds\n",
    "#Difference DateTime\n",
    "#Velocity\n",
    "#Hour from tpep_pickup_datetime\n",
    "#Hour from tpep_dropoff_datetime\n",
    "# In Where filter Values dropoff>pickup\n",
    "dfsqlreduce = spark.sql(\"\"\"SELECT *,\n",
    "                                (unix_timestamp(tpep_dropoff_datetime) - unix_timestamp(tpep_pickup_datetime)) AS difference_datetime,\n",
    "                                trip_distance/(( (unix_timestamp(tpep_dropoff_datetime) - unix_timestamp(tpep_pickup_datetime))/60 )/60) AS velocity,\n",
    "                                HOUR(tpep_pickup_datetime) AS pickup_hour,\n",
    "                                HOUR(tpep_dropoff_datetime) AS dropoff_hour\n",
    "                            FROM tabledataset\n",
    "                            WHERE tpep_dropoff_datetime > tpep_pickup_datetime\n",
    "                        \"\"\") "
   ]
  },
  {
   "cell_type": "code",
   "execution_count": 92,
   "id": "d2a2bb5f-3198-44e9-ab37-93d4b2c34798",
   "metadata": {},
   "outputs": [
    {
     "name": "stdout",
     "output_type": "stream",
     "text": [
      "+-----------+------------------+-------------+------------------+\n",
      "|pickup_hour|       sumvelocity|countvelocity|    hourly_average|\n",
      "+-----------+------------------+-------------+------------------+\n",
      "|          0| 5414162.309641142|       315964|17.135377162085373|\n",
      "|          1|  4270126.96305057|       241135|  17.7084494704235|\n",
      "|          2| 3377608.958453877|       187586|18.005655850937046|\n",
      "|          3|  2518798.78802453|       138729|18.156252751944653|\n",
      "|          4|2196336.6165762604|       105769| 20.76540968125122|\n",
      "|          5|  2320946.31090887|       103011| 22.53105310024046|\n",
      "|          6| 3970573.757003464|       219829|18.062101710891028|\n",
      "|          7|  5089813.79451558|       371686|13.693853937236215|\n",
      "|          8| 5291352.552403971|       453258|11.674041169497219|\n",
      "|          9| 5289697.083458636|       450592|11.739438524116354|\n",
      "|         10| 5320581.825946025|       436412| 12.19164877672022|\n",
      "|         11| 5470946.657648884|       457051|11.970101055787831|\n",
      "|         12| 5908070.528578324|       490381|12.047918921365886|\n",
      "|         13| 6219085.433525098|       495899|12.541032414917348|\n",
      "|         14| 6168205.592846137|       519463|11.874196223496451|\n",
      "|         15| 6147445.313618595|       529650|11.606618169769838|\n",
      "|         16| 6030333.506517751|       486638|12.391826175756417|\n",
      "|         17| 6325827.323365864|       540032|11.713800892106143|\n",
      "|         18| 7146001.063506853|       615739| 11.60556837151269|\n",
      "|         19| 7415741.855794768|       590990|12.547998876114262|\n",
      "|         20|7436755.1435884815|       534508|13.913271912840372|\n",
      "|         21| 7927195.430849889|       524051|  15.1267632937441|\n",
      "|         22|  7831092.30898836|       495057|15.818566971052546|\n",
      "|         23| 6834603.797282512|       398047|17.170343696303483|\n",
      "+-----------+------------------+-------------+------------------+\n",
      "\n"
     ]
    }
   ],
   "source": [
    "#Calculate the velocity avg of each hour\n",
    "#dfsqlreduce_avg = dfsqlreduce\n",
    "dfsqlreduce.createOrReplaceTempView('tabledataset2')\n",
    "dfsqlreduce_avg = spark.sql(\"\"\"SELECT \n",
    "                                pickup_hour,\n",
    "                                sum(velocity) as sumvelocity,\n",
    "                                count(velocity) as countvelocity,\n",
    "                                avg(velocity) as hourly_average        \n",
    "                            FROM tabledataset2\n",
    "                            GROUP BY pickup_hour\n",
    "                            ORDER BY pickup_hour ASC\n",
    "                            \"\"\") \n",
    "dfsqlreduce_avg.show(24)\n",
    "SQLendtime = time.time()"
   ]
  },
  {
   "cell_type": "code",
   "execution_count": 93,
   "id": "8c572533-95f0-4bc1-a2e4-b90f9b33b6db",
   "metadata": {},
   "outputs": [
    {
     "name": "stdout",
     "output_type": "stream",
     "text": [
      "6.2073540687561035\n"
     ]
    }
   ],
   "source": [
    "ExecTime = SQLendtime - SQLstarttime \n",
    "print(ExecTime)"
   ]
  },
  {
   "cell_type": "code",
   "execution_count": 45,
   "id": "c31c6402-ea53-417a-8bc6-cdc83cba9724",
   "metadata": {},
   "outputs": [],
   "source": [
    "#SpeedUp SQL"
   ]
  },
  {
   "cell_type": "markdown",
   "id": "63b718c7-70f0-4233-ac2d-b35dbb456cc7",
   "metadata": {},
   "source": [
    "# Analisis de rendimiento"
   ]
  },
  {
   "cell_type": "code",
   "execution_count": null,
   "id": "a59f1fdc-7126-4adf-9ff1-b69b7d4ae9b2",
   "metadata": {},
   "outputs": [],
   "source": []
  },
  {
   "cell_type": "code",
   "execution_count": null,
   "id": "f654315e-a6a9-4e3c-9422-a1c5e2e573a9",
   "metadata": {},
   "outputs": [],
   "source": []
  },
  {
   "cell_type": "code",
   "execution_count": null,
   "id": "227c0855-0dcf-450c-9fb3-024d3348fed4",
   "metadata": {},
   "outputs": [],
   "source": []
  }
 ],
 "metadata": {
  "kernelspec": {
   "display_name": "Python 3 (ipykernel)",
   "language": "python",
   "name": "python3"
  },
  "language_info": {
   "codemirror_mode": {
    "name": "ipython",
    "version": 3
   },
   "file_extension": ".py",
   "mimetype": "text/x-python",
   "name": "python",
   "nbconvert_exporter": "python",
   "pygments_lexer": "ipython3",
   "version": "3.11.6"
  }
 },
 "nbformat": 4,
 "nbformat_minor": 5
}

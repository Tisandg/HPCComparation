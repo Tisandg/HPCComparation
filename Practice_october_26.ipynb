{
 "cells": [
  {
   "cell_type": "markdown",
   "id": "edeceebf-5caf-4875-9e85-c46bb4f8509c",
   "metadata": {},
   "source": [
    "# Introduction"
   ]
  },
  {
   "cell_type": "code",
   "execution_count": 4,
   "id": "03cb1531-693d-40c2-b86d-88f1fb042414",
   "metadata": {},
   "outputs": [
    {
     "data": {
      "text/html": [
       "\n",
       "            <div>\n",
       "                <p><b>SparkSession - in-memory</b></p>\n",
       "                \n",
       "        <div>\n",
       "            <p><b>SparkContext</b></p>\n",
       "\n",
       "            <p><a href=\"http://271e3af91e45:4041\">Spark UI</a></p>\n",
       "\n",
       "            <dl>\n",
       "              <dt>Version</dt>\n",
       "                <dd><code>v3.5.0</code></dd>\n",
       "              <dt>Master</dt>\n",
       "                <dd><code>local[*]</code></dd>\n",
       "              <dt>AppName</dt>\n",
       "                <dd><code>pyspark-shell</code></dd>\n",
       "            </dl>\n",
       "        </div>\n",
       "        \n",
       "            </div>\n",
       "        "
      ],
      "text/plain": [
       "<pyspark.sql.session.SparkSession at 0x7fe1870baa50>"
      ]
     },
     "execution_count": 4,
     "metadata": {},
     "output_type": "execute_result"
    }
   ],
   "source": [
    "#Reset kernel when start this notebook\n",
    "from pyspark.sql import SparkSession\n",
    "from pyspark import SparkContext, SparkConf\n",
    "\n",
    "spark = SparkSession.builder.master('local[*]').getOrCreate()\n",
    "\n",
    "sc = spark.sparkContext\n",
    "\n",
    "spark"
   ]
  },
  {
   "cell_type": "code",
   "execution_count": 5,
   "id": "9e2736f4-f507-477a-970b-59b71d4918ab",
   "metadata": {},
   "outputs": [
    {
     "ename": "NameError",
     "evalue": "name 'df' is not defined",
     "output_type": "error",
     "traceback": [
      "\u001b[0;31m---------------------------------------------------------------------------\u001b[0m",
      "\u001b[0;31mNameError\u001b[0m                                 Traceback (most recent call last)",
      "Cell \u001b[0;32mIn[5], line 2\u001b[0m\n\u001b[1;32m      1\u001b[0m \u001b[38;5;66;03m#Let's calculate the difference of time between the pick-up and the drop-off\u001b[39;00m\n\u001b[0;32m----> 2\u001b[0m df[\u001b[38;5;124m\"\u001b[39m\u001b[38;5;124mdifference_datetime\u001b[39m\u001b[38;5;124m\"\u001b[39m] \u001b[38;5;241m=\u001b[39m \u001b[43mdf\u001b[49m[\u001b[38;5;124m'\u001b[39m\u001b[38;5;124mtpep_dropoff_datetime\u001b[39m\u001b[38;5;124m'\u001b[39m] \u001b[38;5;241m-\u001b[39m df[\u001b[38;5;124m'\u001b[39m\u001b[38;5;124mtpep_pickup_datetime\u001b[39m\u001b[38;5;124m'\u001b[39m]\n",
      "\u001b[0;31mNameError\u001b[0m: name 'df' is not defined"
     ]
    }
   ],
   "source": [
    "#Let's calculate the difference of time between the pick-up and the drop-off\n",
    "df[\"difference_datetime\"] = df['tpep_dropoff_datetime'] - df['tpep_pickup_datetime']"
   ]
  },
  {
   "cell_type": "code",
   "execution_count": null,
   "id": "6657c507-9685-406e-a365-2e5cdadcc4eb",
   "metadata": {},
   "outputs": [],
   "source": [
    "df.head(10)"
   ]
  },
  {
   "cell_type": "code",
   "execution_count": null,
   "id": "df41993e-38b8-4384-bfe6-652f612670f7",
   "metadata": {},
   "outputs": [],
   "source": [
    "df[\"difference_sec\"] = df[\"difference_datetime\"].dt.total_seconds()"
   ]
  },
  {
   "cell_type": "code",
   "execution_count": null,
   "id": "d994514f-1ae5-4afa-8a29-b131dc498197",
   "metadata": {
    "scrolled": true
   },
   "outputs": [],
   "source": [
    "#Calculate the velocity: milles per hour\n",
    "df[\"velocity\"] = df[\"trip_distance\"] / ((df[\"difference_sec\"]/60) /60)"
   ]
  },
  {
   "cell_type": "code",
   "execution_count": null,
   "id": "d2437e4e-be82-4575-a3bf-9a8f8bfd3e7d",
   "metadata": {},
   "outputs": [],
   "source": [
    "#Check the hours of pickup and dropoff\n",
    "df[\"pickup_hour\"] = df[\"tpep_pickup_datetime\"].apply(lambda x: x.hour)\n",
    "df[\"dropoff_hour\"] = df[\"tpep_dropoff_datetime\"].apply(lambda x: x.hour)"
   ]
  },
  {
   "cell_type": "code",
   "execution_count": null,
   "id": "0d243e1c-6f92-4e4e-b46f-249fdb939345",
   "metadata": {},
   "outputs": [],
   "source": [
    "#Calculate the velocity avg of each hour\n",
    "hourly_average = df.groupby(\"pickup_hour\")[\"velocity\"].mean()\n",
    "hourly_average"
   ]
  },
  {
   "cell_type": "markdown",
   "id": "9f25bba5-dc13-4630-9036-00b6ce0d0617",
   "metadata": {},
   "source": [
    "As we can see, there are NaN values present most of the values. So, let's find what's is causing this."
   ]
  },
  {
   "cell_type": "code",
   "execution_count": null,
   "id": "00ad0751-9610-4560-a862-ad60c8b7c8a9",
   "metadata": {
    "scrolled": true
   },
   "outputs": [],
   "source": [
    "#Let's check for values lower or equal to zero\n",
    "df[df[\"difference_sec\"] < 0][\"VendorID\"].count()"
   ]
  },
  {
   "cell_type": "markdown",
   "id": "9c6ef006-09f5-433a-8c26-e5374f52fa7c",
   "metadata": {},
   "source": [
    "4 rows have difference_sec value below zero. It may indicate we are doing the minus operation between dates wrong. So, let's see the rows"
   ]
  },
  {
   "cell_type": "code",
   "execution_count": null,
   "id": "bf752a5c-31b7-48bd-b769-04c4abbdc901",
   "metadata": {
    "scrolled": true
   },
   "outputs": [],
   "source": [
    "df[df[\"difference_sec\"] < 0]"
   ]
  },
  {
   "cell_type": "code",
   "execution_count": null,
   "id": "f7788d5a-0938-466b-ba6d-773a4b947230",
   "metadata": {
    "scrolled": true
   },
   "outputs": [],
   "source": [
    "#Now, let's check the zero values because it can generate errors in the division between distance/time.\n",
    "df[df[\"difference_sec\"] == 0]"
   ]
  },
  {
   "cell_type": "markdown",
   "id": "9d4a2c37-f7d1-4367-90a1-799d629387af",
   "metadata": {},
   "source": [
    "As we can see, there are 4 records which their dropoff datetimes are before the pickup datetime which is incorrect. Also, there are 9339 rows that have the value zero in the column \"difference_sec\". So, let's remove them"
   ]
  },
  {
   "cell_type": "code",
   "execution_count": null,
   "id": "954c2410-d25b-41ec-8d37-32ef5fc9fce0",
   "metadata": {},
   "outputs": [],
   "source": [
    "df_cleaned = df[df[\"difference_sec\"] > 0]"
   ]
  },
  {
   "cell_type": "code",
   "execution_count": null,
   "id": "ecf23389-8744-40f9-aa55-c574670be4a6",
   "metadata": {},
   "outputs": [],
   "source": [
    "df_cleaned.head(10)"
   ]
  },
  {
   "cell_type": "code",
   "execution_count": null,
   "id": "78ce5bb6-37c3-4680-94f1-f1694f5077be",
   "metadata": {},
   "outputs": [],
   "source": [
    "hourly_average = df_cleaned[[\"pickup_hour\",\"velocity\"]].groupby(\"pickup_hour\")[\"velocity\"].mean()\n",
    "hourly_average"
   ]
  },
  {
   "cell_type": "code",
   "execution_count": null,
   "id": "906c4e9d-66a9-4cf0-9009-29bc8b8af225",
   "metadata": {},
   "outputs": [],
   "source": [
    "temp = hourly_average.to_frame().reset_index()\n",
    "temp"
   ]
  },
  {
   "cell_type": "code",
   "execution_count": null,
   "id": "1f322ec9-9690-47c3-aebe-2eb01951ffea",
   "metadata": {},
   "outputs": [],
   "source": [
    "import seaborn as sns\n",
    "import matplotlib.pyplot as plt\n",
    "from matplotlib.ticker import FuncFormatter, ScalarFormatter"
   ]
  },
  {
   "cell_type": "code",
   "execution_count": null,
   "id": "16f2506e-ff7d-47fd-8d5a-ffc5027eac48",
   "metadata": {},
   "outputs": [],
   "source": [
    "# You can adjust this value to control the center of the color transition\n",
    "center_value = 10\n",
    "intensity = (temp.velocity - center_value) / (center_value)\n",
    "\n",
    "# Create a custom diverging color palette\n",
    "custom_palette = sns.diverging_palette(250, 10, as_cmap=True)\n",
    "\n",
    "plt.figure(figsize=(10, 6))\n",
    "barplot = sns.barplot(data=temp, x=\"pickup_hour\", y=\"velocity\", palette=custom_palette(intensity))\n",
    "\n",
    "# Show the plot\n",
    "plt.show()"
   ]
  },
  {
   "cell_type": "markdown",
   "id": "153cc1d3-8d61-4e5a-b63a-033cbe6a5817",
   "metadata": {},
   "source": [
    "As we can see, the plot shows the average velocity in each hour of the day. The higher velocities are present before and after midnight with a peak at 5am. It could be due to the low trafic and presence of pedestrians on the streets."
   ]
  },
  {
   "cell_type": "code",
   "execution_count": null,
   "id": "6adf6120-3a16-4d05-a67f-31427c3fe328",
   "metadata": {
    "scrolled": true
   },
   "outputs": [],
   "source": [
    "df_filtered = df_cleaned[[\"PULocationID\",\"DOLocationID\",\"trip_distance\",\"tolls_amount\",\"total_amount\"]]\n",
    "df_filtered.head(10)"
   ]
  },
  {
   "cell_type": "markdown",
   "id": "23ee35f2-c255-4a5b-ac66-b5c6b6740b73",
   "metadata": {},
   "source": [
    "Before to continue, let's add the names of the zone for a better understanding"
   ]
  },
  {
   "cell_type": "code",
   "execution_count": null,
   "id": "1cb8e0d1-c9b5-48e6-92dc-10cf8efd9293",
   "metadata": {},
   "outputs": [],
   "source": [
    "df_zones = pd.read_csv(\"dataset/taxi_zone_lookup.csv\")\n",
    "df_zones.head(5)"
   ]
  },
  {
   "cell_type": "code",
   "execution_count": null,
   "id": "c640df1f-7877-4390-bf63-cd0414698cf3",
   "metadata": {},
   "outputs": [],
   "source": [
    "# Merge df_filtered with df_zones for pickup location names\n",
    "merged_df = df_filtered.merge(df_zones, left_on='PULocationID', right_on='LocationID', how='left')"
   ]
  },
  {
   "cell_type": "code",
   "execution_count": null,
   "id": "cf051147-9198-4190-a1eb-931e322e7ad9",
   "metadata": {},
   "outputs": [],
   "source": [
    "# Rename the LocationID column to pickup_location_name\n",
    "merged_df.rename(columns={'Borough': 'BoroughPickUp','ZonePickUp':}, inplace=True)"
   ]
  },
  {
   "cell_type": "code",
   "execution_count": null,
   "id": "21793102-6fc9-4ede-b4c8-ec21ed175731",
   "metadata": {},
   "outputs": [],
   "source": [
    "df_filtered[\"PUZone\"] = df_zones[df_zones.LocationID == df_filtered.PULocationID]"
   ]
  },
  {
   "cell_type": "code",
   "execution_count": null,
   "id": "8c1cfdbf-5a7c-4f5c-8af7-bb2b100b61f8",
   "metadata": {
    "scrolled": true
   },
   "outputs": [],
   "source": [
    "#Let's group the rows based on the origin and the destination of the trips\n",
    "#Here, we can see the 10 of the most frequent routes \n",
    "df_filtered.groupby([\"PULocationID\",\"DOLocationID\"])[\"total_amount\"].count().sort_values(ascending=False).head(10)"
   ]
  },
  {
   "cell_type": "code",
   "execution_count": null,
   "id": "c1e80cfb-f4e1-4171-92c7-cf96975306f8",
   "metadata": {},
   "outputs": [],
   "source": [
    "df_filtered.groupby([\"PULocationID\",\"DOLocationID\"])[\"total_amount\"].sum().sort_values(ascending=False).head(10)"
   ]
  },
  {
   "cell_type": "markdown",
   "id": "e14db674-e957-4ac4-920d-edfa623ae958",
   "metadata": {},
   "source": [
    "# Data Analysis\n",
    "\n",
    "* As Spark Dataframes operations are lazy, we need to use show() to trigger the computation and see the results"
   ]
  },
  {
   "cell_type": "markdown",
   "id": "25f51b6c-f47b-4514-bef4-030115890e11",
   "metadata": {},
   "source": [
    "Data dictionary of this dataset can be found in the following link:\n",
    "https://www.nyc.gov/assets/tlc/downloads/pdf/data_dictionary_trip_records_yellow.pdf"
   ]
  },
  {
   "cell_type": "code",
   "execution_count": null,
   "id": "ffba63c1-f2e9-47bb-9596-05ea2166c3c5",
   "metadata": {
    "scrolled": true
   },
   "outputs": [],
   "source": [
    "sdf = spark.read.format(\"parquet\").option(\"inferSchema\", \"true\").option(\"timestampFormat\",\"yyyy-MM-dd HH:mm:ss\").option(\"header\", \"true\").option(\"mode\", \"DROPMALFORMED\").load(\"dataset/yellow_tripdata_2017-01.parquet\")"
   ]
  },
  {
   "cell_type": "code",
   "execution_count": null,
   "id": "0bb1126c-a338-49d3-aae5-aac94c179f74",
   "metadata": {},
   "outputs": [],
   "source": [
    "#Check the type of data of each column\n",
    "sdf.printSchema()"
   ]
  },
  {
   "cell_type": "code",
   "execution_count": null,
   "id": "190b1825-7976-4a94-860f-489d403f856f",
   "metadata": {
    "scrolled": true
   },
   "outputs": [],
   "source": [
    "#See the number of records\n",
    "sdf.count()"
   ]
  },
  {
   "cell_type": "markdown",
   "id": "c5323733-dead-4d08-ae6d-a24486129f32",
   "metadata": {},
   "source": [
    "9'710.820 - 4'856.845"
   ]
  },
  {
   "cell_type": "markdown",
   "id": "fe791754-a293-49b9-8621-877d1ced429e",
   "metadata": {},
   "source": [
    "## Null values"
   ]
  },
  {
   "cell_type": "code",
   "execution_count": null,
   "id": "392d4cf6-4399-4391-b4d2-397b620ceb68",
   "metadata": {},
   "outputs": [],
   "source": [
    "from pyspark.sql.functions import col, sum, when, expr"
   ]
  },
  {
   "cell_type": "code",
   "execution_count": null,
   "id": "60b37e72-4365-4630-908f-69ce517ab701",
   "metadata": {
    "scrolled": true
   },
   "outputs": [],
   "source": [
    "# Create a list of expressions that count null values for each column\n",
    "null_counts = [sum(when(col(c).isNull(), 1).otherwise(0)).alias(c) for c in sdf.columns]\n",
    "\n",
    "# Apply the expressions to the DataFrame and display the result\n",
    "# The '*' is used to unpack the list and pass each expression as separete arg\n",
    "# The agg funciton is to apply the expressions to the dataframe 'sdf'\n",
    "sdf.agg(*null_counts).show()"
   ]
  },
  {
   "cell_type": "code",
   "execution_count": null,
   "id": "1b65e126-fc52-496f-b166-b81c63466c3c",
   "metadata": {},
   "outputs": [],
   "source": [
    "#The 'congestion_surcharge' and 'airport_fee' columns are null, let's remove them\n",
    "sdf = sdf.drop(*[\"congestion_surcharge\",\"airport_fee\"])"
   ]
  },
  {
   "cell_type": "markdown",
   "id": "3c48e9bb-48c3-4e60-ad0c-0c4bf8de3714",
   "metadata": {},
   "source": [
    "## Take a sample from the dataset\n",
    "Select a set of records randomly to limit the size of the dataset, thus executing operations easier"
   ]
  },
  {
   "cell_type": "code",
   "execution_count": null,
   "id": "66aaf2bf-31c4-43ca-a79b-22986bd352c3",
   "metadata": {},
   "outputs": [],
   "source": [
    "sdf = sdf.sample(withReplacement=False, fraction=0.5, seed=15)\n",
    "new_size = sdf.count()\n",
    "print(f\"Size of the sample '{new_size}'\")"
   ]
  },
  {
   "cell_type": "markdown",
   "id": "9124a1f7-a4f7-480a-bcd5-968033957079",
   "metadata": {},
   "source": [
    "# Estudio #1 -  "
   ]
  },
  {
   "cell_type": "code",
   "execution_count": null,
   "id": "4c56b6bd-9003-4049-be7a-32e05ce83899",
   "metadata": {},
   "outputs": [],
   "source": []
  },
  {
   "cell_type": "markdown",
   "id": "db7ed995-694d-47ac-b9b9-ff6c5888f896",
   "metadata": {},
   "source": [
    "# Estudio #2 - "
   ]
  },
  {
   "cell_type": "code",
   "execution_count": null,
   "id": "2a4dec12-308b-4b32-9132-d3c0c5570fcc",
   "metadata": {},
   "outputs": [],
   "source": []
  },
  {
   "cell_type": "markdown",
   "id": "dc267d1b-743a-40e9-a232-6521e28e4b27",
   "metadata": {},
   "source": [
    "# Estudio #3 - "
   ]
  },
  {
   "cell_type": "code",
   "execution_count": null,
   "id": "4d609925-d888-40d0-a263-c482afb8c6f2",
   "metadata": {},
   "outputs": [],
   "source": []
  },
  {
   "cell_type": "markdown",
   "id": "0c024467-e362-44a2-8412-d14bad3fe653",
   "metadata": {},
   "source": [
    "# Estudio #4 - Taxi Velocity average in each hour"
   ]
  },
  {
   "cell_type": "code",
   "execution_count": null,
   "id": "e4f72fdf-0156-4f33-8539-a4be3da889ba",
   "metadata": {
    "scrolled": true
   },
   "outputs": [],
   "source": [
    "#Let's calculate the difference of time between the pick-up and the drop-off\n",
    "sdf = sdf.withColumn(\"duration\", col(\"tpep_dropoff_datetime\")-col(\"tpep_pickup_datetime\"))\n",
    "sdf.select(\"duration\").show()"
   ]
  },
  {
   "cell_type": "markdown",
   "id": "751e7103-6b65-44b2-b9d1-5470676b2725",
   "metadata": {},
   "source": [
    "### Check duration of trips"
   ]
  },
  {
   "cell_type": "code",
   "execution_count": null,
   "id": "70838589-85c0-4950-bde3-763805f2d4ab",
   "metadata": {},
   "outputs": [],
   "source": [
    "from pyspark.sql.functions import udf\n",
    "from pyspark.sql.types import IntegerType, StringType\n",
    "\n",
    "#convert to seconds manually through User defined functions (UDF)\n",
    "def interval_to_seconds(interval):\n",
    "    total_seconds = interval.total_seconds()\n",
    "    return int(total_seconds)\n",
    "\n",
    "interval_to_seconds_udf = udf(interval_to_seconds, IntegerType())"
   ]
  },
  {
   "cell_type": "code",
   "execution_count": null,
   "id": "cff39711-5420-4e5b-857c-5e641ad652c3",
   "metadata": {
    "scrolled": true
   },
   "outputs": [],
   "source": [
    "# Use the UDF to extract seconds and store in a new column\n",
    "sdf = sdf.withColumn(\"duration\", interval_to_seconds_udf(col(\"duration\")))\n",
    "\n",
    "# Show the DataFrame with the extracted seconds\n",
    "sdf.select(\"duration\").show()"
   ]
  },
  {
   "cell_type": "code",
   "execution_count": null,
   "id": "414615b9-da6a-4f7e-8615-1c8b094c4b51",
   "metadata": {
    "scrolled": true
   },
   "outputs": [],
   "source": [
    "#Let's check for some anomalities in this column\n",
    "sdf.filter(col(\"duration\") < 0).show()"
   ]
  },
  {
   "cell_type": "code",
   "execution_count": null,
   "id": "6eab7a43-5067-4009-af25-34471244d871",
   "metadata": {},
   "outputs": [],
   "source": [
    "sdf.filter(col(\"duration\") == 0).show()"
   ]
  },
  {
   "cell_type": "markdown",
   "id": "8f3e4518-14c4-427d-8f02-486bb753843e",
   "metadata": {},
   "source": [
    "All the above records shows that all the trips where finished at the same time when started.\n",
    "\n",
    "Because of all these records, we proceed to remove them"
   ]
  },
  {
   "cell_type": "code",
   "execution_count": null,
   "id": "9d695b99-fc1d-4d1a-8ffc-2e07185a255f",
   "metadata": {},
   "outputs": [],
   "source": [
    "sdf = sdf.filter(col(\"duration\") > 0)\n",
    "size_after_reduction = sdf.count()\n",
    "print(f\"Size of the sample '{size_after_reduction}'\")"
   ]
  },
  {
   "cell_type": "markdown",
   "id": "1e0810b6-6b7f-4d1a-b25b-9339fadb671f",
   "metadata": {},
   "source": [
    "### Calculate Velocity of each trip"
   ]
  },
  {
   "cell_type": "code",
   "execution_count": null,
   "id": "d83effc8-8f80-4f1d-8a24-61ba4a64da98",
   "metadata": {
    "scrolled": true
   },
   "outputs": [],
   "source": [
    "#As the duration column is in seconds, we have to divide the value between 3600 to the value in hour units.\n",
    "sdf = sdf.withColumn(\"velocity\",col(\"trip_distance\")/(col(\"duration\")/3600))\n",
    "sdf.select(\"velocity\").show()"
   ]
  },
  {
   "cell_type": "markdown",
   "id": "1f87d01f-11fe-46b2-bd1b-5392d8432b65",
   "metadata": {},
   "source": [
    "*The units of these values are miles per hour"
   ]
  },
  {
   "cell_type": "markdown",
   "id": "efa40935-daae-416c-9257-5c1cbde91b72",
   "metadata": {},
   "source": [
    "### Calculate avg per hour"
   ]
  },
  {
   "cell_type": "code",
   "execution_count": null,
   "id": "6974b01d-4af3-46a4-847d-c0e53892641a",
   "metadata": {},
   "outputs": [],
   "source": [
    "from pyspark.sql.functions import hour"
   ]
  },
  {
   "cell_type": "code",
   "execution_count": null,
   "id": "e9bcd1ba-e61e-4736-b2ee-71138bb0efac",
   "metadata": {},
   "outputs": [],
   "source": [
    "sdf = sdf.withColumn(\"hour_pickup\", hour(col(\"tpep_pickup_datetime\")))\n",
    "sdf = sdf.withColumn(\"hour_dropoff\", hour(col(\"tpep_dropoff_datetime\")))\n",
    "sdf.show()"
   ]
  },
  {
   "cell_type": "code",
   "execution_count": null,
   "id": "82fa5b6e-2bb0-4d8a-b237-7a602d224721",
   "metadata": {},
   "outputs": [],
   "source": [
    "from pyspark.sql.functions import avg, max, min"
   ]
  },
  {
   "cell_type": "code",
   "execution_count": null,
   "id": "1b778bae-b6ae-4a74-8dac-25754cba150d",
   "metadata": {
    "scrolled": true
   },
   "outputs": [],
   "source": [
    "result_df = sdf.groupBy(\"hour_pickup\").agg(avg(\"velocity\").alias(\"VelocityAvg\")).orderBy(\"hour_pickup\")\n",
    "\n",
    "# Show the resulting DataFrame\n",
    "result_df.show(24)"
   ]
  },
  {
   "cell_type": "markdown",
   "id": "5e055078-c20f-477f-859c-44a358f14b59",
   "metadata": {},
   "source": [
    "### Visualize results"
   ]
  },
  {
   "cell_type": "code",
   "execution_count": null,
   "id": "5d2840f2-32b2-4cf7-b395-0c806b90901e",
   "metadata": {},
   "outputs": [],
   "source": [
    "import seaborn as sns\n",
    "import matplotlib.pyplot as plt\n",
    "from matplotlib.ticker import FuncFormatter, ScalarFormatter"
   ]
  },
  {
   "cell_type": "code",
   "execution_count": null,
   "id": "b990cbd2-9786-4eca-81c9-c0f208ba6254",
   "metadata": {},
   "outputs": [],
   "source": [
    "max = result_df.agg(max(\"VelocityAvg\")).collect()[0][0]\n",
    "min = result_df.agg(min(\"VelocityAvg\")).collect()[0][0]"
   ]
  },
  {
   "cell_type": "code",
   "execution_count": null,
   "id": "17636826-3ce0-4905-989f-92ec8010b6d5",
   "metadata": {},
   "outputs": [],
   "source": [
    "center_value = (max/min)/2"
   ]
  },
  {
   "cell_type": "code",
   "execution_count": null,
   "id": "595e2115-8788-4610-bf53-dc1a60aafd0c",
   "metadata": {},
   "outputs": [],
   "source": [
    "# Define a custom color mapping based on numeric values\n",
    "def custom_color_palette(x):\n",
    "    if x <= center_value:\n",
    "        return \"lightblue\"  # Light blue for values less than 50\n",
    "    else:\n",
    "        return \"lightred\"  # Light green for values between 50 and 100\n",
    "\n",
    "custom_color_palette_udf = udf(custom_color_palette, StringType())\n",
    "\n",
    "result_df = result_df.withColumn(\"Color\", custom_color_palette_udf(col(\"VelocityAvg\")))"
   ]
  },
  {
   "cell_type": "code",
   "execution_count": null,
   "id": "9406d270-4b8a-45b2-a3f9-41f6ce14c755",
   "metadata": {},
   "outputs": [],
   "source": [
    "plt.figure(figsize=(10, 6))\n",
    "result_df_p = result_df.toPandas()\n",
    "barplot = sns.barplot(data=result_df_p, x=\"hour_pickup\", y=\"VelocityAvg\")\n",
    "plt.xlabel(\"Hour\")\n",
    "plt.ylabel(\"Average velocity\")\n",
    "\n",
    "# Show the plot\n",
    "plt.show()"
   ]
  },
  {
   "cell_type": "markdown",
   "id": "63b718c7-70f0-4233-ac2d-b35dbb456cc7",
   "metadata": {},
   "source": [
    "# Analisis de rendimiento"
   ]
  },
  {
   "cell_type": "code",
   "execution_count": null,
   "id": "a59f1fdc-7126-4adf-9ff1-b69b7d4ae9b2",
   "metadata": {},
   "outputs": [],
   "source": []
  },
  {
   "cell_type": "code",
   "execution_count": null,
   "id": "f654315e-a6a9-4e3c-9422-a1c5e2e573a9",
   "metadata": {},
   "outputs": [],
   "source": []
  },
  {
   "cell_type": "code",
   "execution_count": null,
   "id": "227c0855-0dcf-450c-9fb3-024d3348fed4",
   "metadata": {},
   "outputs": [],
   "source": []
  }
 ],
 "metadata": {
  "kernelspec": {
   "display_name": "Python 3 (ipykernel)",
   "language": "python",
   "name": "python3"
  },
  "language_info": {
   "codemirror_mode": {
    "name": "ipython",
    "version": 3
   },
   "file_extension": ".py",
   "mimetype": "text/x-python",
   "name": "python",
   "nbconvert_exporter": "python",
   "pygments_lexer": "ipython3",
   "version": "3.11.5"
  }
 },
 "nbformat": 4,
 "nbformat_minor": 5
}

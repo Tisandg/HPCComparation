{
 "cells": [
  {
   "cell_type": "code",
   "execution_count": 29,
   "id": "4caa39be-cf49-46d7-a4fd-944251e58f37",
   "metadata": {},
   "outputs": [
    {
     "data": {
      "text/html": [
       "\n",
       "            <div>\n",
       "                <p><b>SparkSession - in-memory</b></p>\n",
       "                \n",
       "        <div>\n",
       "            <p><b>SparkContext</b></p>\n",
       "\n",
       "            <p><a href=\"http://13e690c2a086:4040\">Spark UI</a></p>\n",
       "\n",
       "            <dl>\n",
       "              <dt>Version</dt>\n",
       "                <dd><code>v3.5.0</code></dd>\n",
       "              <dt>Master</dt>\n",
       "                <dd><code>local[*]</code></dd>\n",
       "              <dt>AppName</dt>\n",
       "                <dd><code>pyspark-shell</code></dd>\n",
       "            </dl>\n",
       "        </div>\n",
       "        \n",
       "            </div>\n",
       "        "
      ],
      "text/plain": [
       "<pyspark.sql.session.SparkSession at 0x7f2885427ed0>"
      ]
     },
     "execution_count": 29,
     "metadata": {},
     "output_type": "execute_result"
    }
   ],
   "source": [
    "from pyspark.sql import SparkSession\n",
    "from pyspark import SparkContext, SparkConf\n",
    "from pyspark.sql.functions import unix_timestamp, hour\n",
    "import matplotlib.pyplot as plt\n",
    "import pandas as pd\n",
    "import time\n",
    "\n",
    "spark = SparkSession.builder.master('local[*]').getOrCreate()\n",
    "\n",
    "\n",
    "sc = spark.sparkContext\n",
    "\n",
    "spark"
   ]
  },
  {
   "cell_type": "code",
   "execution_count": 30,
   "id": "a827bdf7-1f72-4aa9-8041-45987d280d13",
   "metadata": {},
   "outputs": [
    {
     "name": "stdout",
     "output_type": "stream",
     "text": [
      "Your runtime has 11.6 gigabytes of available RAM\n",
      "\n"
     ]
    }
   ],
   "source": [
    "from psutil import virtual_memory\n",
    "ram_gb = virtual_memory().total / 1e9\n",
    "print('Your runtime has {:.1f} gigabytes of available RAM\\n'.format(ram_gb))"
   ]
  },
  {
   "cell_type": "code",
   "execution_count": 31,
   "id": "74521755-b56f-40f8-ab8e-af345e8a1286",
   "metadata": {},
   "outputs": [
    {
     "name": "stdout",
     "output_type": "stream",
     "text": [
      "Cantidad de datos procesados: 9710820 viajes.\n"
     ]
    }
   ],
   "source": [
    "# Comenzar a medir el tiempo\n",
    "start_time = time.time()\n",
    "# Cargar los datos\n",
    "df = spark.read.format(\"parquet\").option(\"inferSchema\", \"true\").option(\"timestampFormat\",\"yyyy-MM-dd HH:mm:ss\").option(\"header\", \"true\").option(\"mode\", \"DROPMALFORMED\").load(\"yellow_tripdata_2017-01.parquet\")\n",
    "num_viajes = df.count()\n",
    "num_viajes = df.count()\n",
    "print(f\"Cantidad de datos procesados: {num_viajes} viajes.\")"
   ]
  },
  {
   "cell_type": "code",
   "execution_count": 32,
   "id": "169fb5e5-3552-47ee-8b61-2c85b1981dfa",
   "metadata": {},
   "outputs": [],
   "source": [
    "df_limited = df[\"tip_amount\",\"DOLocationID\"]"
   ]
  },
  {
   "cell_type": "code",
   "execution_count": 24,
   "id": "3e7a66aa-6b5c-4d6a-9efa-ba6db7f8f795",
   "metadata": {},
   "outputs": [
    {
     "name": "stdout",
     "output_type": "stream",
     "text": [
      "+------------+------------------+\n",
      "|DOLocationID|       average_tip|\n",
      "+------------+------------------+\n",
      "|         204|15.657611940298507|\n",
      "|          44|12.607241379310345|\n",
      "|           2|12.126249999999999|\n",
      "|           1|10.954543615676386|\n",
      "|         109| 10.73825581395349|\n",
      "|         176|10.382933333333337|\n",
      "|          84| 9.383253012048192|\n",
      "|           5| 9.147704918032787|\n",
      "|         265| 8.874212609556167|\n",
      "|         214| 8.320777777777776|\n",
      "|         245| 8.035326086956523|\n",
      "|          23| 7.677205240174674|\n",
      "|         172| 7.591983471074382|\n",
      "|         251| 7.571948051948051|\n",
      "|         118| 7.352035928143712|\n",
      "|         206|7.0175956284152985|\n",
      "|         132| 6.725178089023828|\n",
      "|           6| 6.120670103092784|\n",
      "|         156| 5.911585365853658|\n",
      "|         138|  5.85998675301736|\n",
      "+------------+------------------+\n",
      "only showing top 20 rows\n",
      "\n",
      "Tiempo de ejecución: 7.69 segundos.\n"
     ]
    }
   ],
   "source": [
    "# Agrupar por 'DOLocationID' y calcular la media de 'tip_amount'\n",
    "df_avg_tips = df_limited.groupBy(\"DOLocationID\").agg({\"tip_amount\": \"avg\"})\n",
    "\n",
    "# Renombrar columnas para mayor claridad\n",
    "df_avg_tips = df_avg_tips.withColumnRenamed(\"avg(tip_amount)\", \"average_tip\")\n",
    "\n",
    "# Si quieres ordenar por la media de propina de mayor a menor:\n",
    "df_avg_tips_ordered = df_avg_tips.orderBy(\"average_tip\", ascending=False)\n",
    "\n",
    "df_avg_tips_ordered.show()\n",
    "\n",
    "# Finalizar medición del tiempo\n",
    "end_time = time.time()\n",
    "execution_time = end_time - start_time\n",
    "print(f\"Tiempo de ejecución: {execution_time:.2f} segundos.\")\n"
   ]
  },
  {
   "cell_type": "code",
   "execution_count": null,
   "id": "25613b5c-d214-4c1f-90e8-6b726358a3e0",
   "metadata": {},
   "outputs": [],
   "source": []
  },
  {
   "cell_type": "code",
   "execution_count": null,
   "id": "7e88c5db-6e39-4160-9ec6-7766be5b6589",
   "metadata": {},
   "outputs": [],
   "source": []
  }
 ],
 "metadata": {
  "kernelspec": {
   "display_name": "Python 3 (ipykernel)",
   "language": "python",
   "name": "python3"
  },
  "language_info": {
   "codemirror_mode": {
    "name": "ipython",
    "version": 3
   },
   "file_extension": ".py",
   "mimetype": "text/x-python",
   "name": "python",
   "nbconvert_exporter": "python",
   "pygments_lexer": "ipython3",
   "version": "3.11.5"
  }
 },
 "nbformat": 4,
 "nbformat_minor": 5
}

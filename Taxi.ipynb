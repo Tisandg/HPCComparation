{
 "cells": [
  {
   "cell_type": "code",
   "execution_count": 1,
   "id": "3b61095d-74e0-4d46-9f63-5b19e6decbfc",
   "metadata": {
    "scrolled": true
   },
   "outputs": [
    {
     "data": {
      "text/html": [
       "\n",
       "            <div>\n",
       "                <p><b>SparkSession - in-memory</b></p>\n",
       "                \n",
       "        <div>\n",
       "            <p><b>SparkContext</b></p>\n",
       "\n",
       "            <p><a href=\"http://13e690c2a086:4040\">Spark UI</a></p>\n",
       "\n",
       "            <dl>\n",
       "              <dt>Version</dt>\n",
       "                <dd><code>v3.5.0</code></dd>\n",
       "              <dt>Master</dt>\n",
       "                <dd><code>local[*]</code></dd>\n",
       "              <dt>AppName</dt>\n",
       "                <dd><code>pyspark-shell</code></dd>\n",
       "            </dl>\n",
       "        </div>\n",
       "        \n",
       "            </div>\n",
       "        "
      ],
      "text/plain": [
       "<pyspark.sql.session.SparkSession at 0x7f9707130a50>"
      ]
     },
     "execution_count": 1,
     "metadata": {},
     "output_type": "execute_result"
    }
   ],
   "source": [
    "from pyspark.sql import SparkSession\n",
    "from pyspark import SparkContext, SparkConf\n",
    "from pyspark.sql.functions import unix_timestamp, hour\n",
    "import matplotlib.pyplot as plt\n",
    "import pandas as pd\n",
    "spark = SparkSession.builder.master('local[*]').getOrCreate()\n",
    "\n",
    "sc = spark.sparkContext\n",
    "\n",
    "spark"
   ]
  },
  {
   "cell_type": "code",
   "execution_count": 2,
   "id": "f0a92c24-07a0-40ea-a5e5-058d31f9cb5e",
   "metadata": {},
   "outputs": [
    {
     "name": "stdout",
     "output_type": "stream",
     "text": [
      "Your runtime has 11.6 gigabytes of available RAM\n",
      "\n"
     ]
    }
   ],
   "source": [
    "from psutil import virtual_memory\n",
    "ram_gb = virtual_memory().total / 1e9\n",
    "print('Your runtime has {:.1f} gigabytes of available RAM\\n'.format(ram_gb))"
   ]
  },
  {
   "cell_type": "code",
   "execution_count": 3,
   "id": "25836aa2-1803-4021-b1d6-c6ac94990843",
   "metadata": {},
   "outputs": [],
   "source": [
    "# Comenzar a medir el tiempo\n",
    "start_time = time.time()\n",
    "# Cargar los datos\n",
    "df = spark.read.format(\"csv\").option(\"inferSchema\", \"true\").option(\"timestampFormat\",\"yyyy-MM-dd HH:mm:ss\").option(\"header\", \"true\").option(\"mode\", \"DROPMALFORMED\").load(\"tripdata_2017-01.csv\")"
   ]
  },
  {
   "cell_type": "code",
   "execution_count": 19,
   "id": "c0b80cda-0c3d-4cb8-b536-aaedeab4376d",
   "metadata": {},
   "outputs": [
    {
     "name": "stdout",
     "output_type": "stream",
     "text": [
      "Cantidad de datos procesados: 971010 viajes.\n"
     ]
    }
   ],
   "source": [
    "df_limited_1 = df.limit(500000)\n",
    "# Cantidad de datos procesados\n",
    "num_viajes = df.count()\n",
    "print(f\"Cantidad de datos procesados: {num_viajes} viajes.\")"
   ]
  },
  {
   "cell_type": "code",
   "execution_count": 5,
   "id": "5869c673-8798-4887-b00b-b1aa7e22b4ac",
   "metadata": {},
   "outputs": [],
   "source": [
    "df_limited_2 = df_limited_1[\"tpep_pickup_datetime\",\"tpep_dropoff_datetime\",\"trip_distance\"]"
   ]
  },
  {
   "cell_type": "code",
   "execution_count": 6,
   "id": "a4c360ac-7ada-409d-83f1-caeef2d3e80f",
   "metadata": {},
   "outputs": [
    {
     "name": "stdout",
     "output_type": "stream",
     "text": [
      "+--------------------+---------------------+-------------+\n",
      "|tpep_pickup_datetime|tpep_dropoff_datetime|trip_distance|\n",
      "+--------------------+---------------------+-------------+\n",
      "| 2017-01-09 11:13:28|  2017-01-09 11:25:45|          3.3|\n",
      "| 2017-01-09 11:32:27|  2017-01-09 11:36:01|          0.9|\n",
      "| 2017-01-09 11:38:20|  2017-01-09 11:42:05|          1.1|\n",
      "| 2017-01-09 11:52:13|  2017-01-09 11:57:36|          1.1|\n",
      "| 2017-01-01 00:00:00|  2017-01-01 00:00:00|         0.02|\n",
      "| 2017-01-01 00:00:02|  2017-01-01 00:03:50|          0.5|\n",
      "| 2017-01-01 00:00:02|  2017-01-01 00:39:22|         7.75|\n",
      "| 2017-01-01 00:00:03|  2017-01-01 00:06:58|          0.8|\n",
      "| 2017-01-01 00:00:05|  2017-01-01 00:08:33|          0.9|\n",
      "| 2017-01-01 00:00:05|  2017-01-01 00:05:04|         1.76|\n",
      "| 2017-01-01 00:00:05|  2017-01-01 00:15:36|         8.47|\n",
      "| 2017-01-01 00:00:06|  2017-01-01 00:11:56|          2.4|\n",
      "| 2017-01-01 00:00:06|  2017-01-01 00:23:37|         12.6|\n",
      "| 2017-01-01 00:00:06|  2017-01-01 00:08:53|          0.9|\n",
      "| 2017-01-01 00:00:06|  2017-01-01 00:09:30|         2.43|\n",
      "| 2017-01-01 00:00:06|  2017-01-01 00:16:05|          2.6|\n",
      "| 2017-01-01 00:00:06|  2017-01-01 00:18:12|         4.25|\n",
      "| 2017-01-01 00:00:07|  2017-01-01 00:07:42|         0.65|\n",
      "| 2017-01-01 00:00:09|  2017-01-01 00:34:21|         3.42|\n",
      "| 2017-01-01 00:00:10|  2017-01-01 00:24:52|          6.6|\n",
      "+--------------------+---------------------+-------------+\n",
      "only showing top 20 rows\n",
      "\n"
     ]
    }
   ],
   "source": [
    "df_limited_2.show()"
   ]
  },
  {
   "cell_type": "code",
   "execution_count": 7,
   "id": "dad0833a-84d1-49ba-8583-c7a610f5abc6",
   "metadata": {},
   "outputs": [],
   "source": [
    "df_limited_2=df_limited_2.withColumn('duration',\n",
    "                                   (unix_timestamp(\"tpep_dropoff_datetime\") - unix_timestamp(\"tpep_pickup_datetime\"))/3600)"
   ]
  },
  {
   "cell_type": "code",
   "execution_count": 8,
   "id": "c430beb5-f3dd-4d7f-bd5c-386f68af13c2",
   "metadata": {},
   "outputs": [],
   "source": [
    "df_limited_2=df_limited_2.filter(df_limited_2[\"duration\"]>0)"
   ]
  },
  {
   "cell_type": "code",
   "execution_count": 9,
   "id": "68ba830f-8ce5-4e0e-8671-12b8f9697687",
   "metadata": {},
   "outputs": [
    {
     "name": "stdout",
     "output_type": "stream",
     "text": [
      "+--------------------+---------------------+-------------+--------------------+\n",
      "|tpep_pickup_datetime|tpep_dropoff_datetime|trip_distance|            duration|\n",
      "+--------------------+---------------------+-------------+--------------------+\n",
      "| 2017-01-09 11:13:28|  2017-01-09 11:25:45|          3.3| 0.20472222222222222|\n",
      "| 2017-01-09 11:32:27|  2017-01-09 11:36:01|          0.9|0.059444444444444446|\n",
      "| 2017-01-09 11:38:20|  2017-01-09 11:42:05|          1.1|              0.0625|\n",
      "| 2017-01-09 11:52:13|  2017-01-09 11:57:36|          1.1| 0.08972222222222222|\n",
      "| 2017-01-01 00:00:02|  2017-01-01 00:03:50|          0.5| 0.06333333333333334|\n",
      "| 2017-01-01 00:00:02|  2017-01-01 00:39:22|         7.75|  0.6555555555555556|\n",
      "| 2017-01-01 00:00:03|  2017-01-01 00:06:58|          0.8| 0.11527777777777778|\n",
      "| 2017-01-01 00:00:05|  2017-01-01 00:08:33|          0.9|  0.1411111111111111|\n",
      "| 2017-01-01 00:00:05|  2017-01-01 00:05:04|         1.76| 0.08305555555555555|\n",
      "| 2017-01-01 00:00:05|  2017-01-01 00:15:36|         8.47|  0.2586111111111111|\n",
      "| 2017-01-01 00:00:06|  2017-01-01 00:11:56|          2.4| 0.19722222222222222|\n",
      "| 2017-01-01 00:00:06|  2017-01-01 00:23:37|         12.6| 0.39194444444444443|\n",
      "| 2017-01-01 00:00:06|  2017-01-01 00:08:53|          0.9|  0.1463888888888889|\n",
      "| 2017-01-01 00:00:06|  2017-01-01 00:09:30|         2.43| 0.15666666666666668|\n",
      "| 2017-01-01 00:00:06|  2017-01-01 00:16:05|          2.6|  0.2663888888888889|\n",
      "| 2017-01-01 00:00:06|  2017-01-01 00:18:12|         4.25|  0.3016666666666667|\n",
      "| 2017-01-01 00:00:07|  2017-01-01 00:07:42|         0.65| 0.12638888888888888|\n",
      "| 2017-01-01 00:00:09|  2017-01-01 00:34:21|         3.42|                0.57|\n",
      "| 2017-01-01 00:00:10|  2017-01-01 00:24:52|          6.6|  0.4116666666666667|\n",
      "| 2017-01-01 00:00:10|  2017-01-01 00:02:49|          0.5| 0.04416666666666667|\n",
      "+--------------------+---------------------+-------------+--------------------+\n",
      "only showing top 20 rows\n",
      "\n"
     ]
    }
   ],
   "source": [
    "df_limited_2.show()"
   ]
  },
  {
   "cell_type": "code",
   "execution_count": 10,
   "id": "5aa46a4a-aefe-48c4-a7e8-440c533dc3f7",
   "metadata": {},
   "outputs": [],
   "source": [
    "df_limited_2=df_limited_2.withColumn('velocidad', df_limited_2[\"trip_distance\"]/df_limited_2[\"duration\"])"
   ]
  },
  {
   "cell_type": "code",
   "execution_count": 11,
   "id": "e663306a-e5ce-4957-b922-59cd00f540e6",
   "metadata": {},
   "outputs": [],
   "source": [
    "df_limited_2=df_limited_2.withColumn('hora', hour(df[\"tpep_pickup_datetime\"]))"
   ]
  },
  {
   "cell_type": "code",
   "execution_count": 12,
   "id": "654553b5-e08c-427e-bc8c-fafd880c9f3b",
   "metadata": {},
   "outputs": [
    {
     "name": "stdout",
     "output_type": "stream",
     "text": [
      "+--------------------+---------------------+-------------+--------------------+------------------+----+\n",
      "|tpep_pickup_datetime|tpep_dropoff_datetime|trip_distance|            duration|         velocidad|hora|\n",
      "+--------------------+---------------------+-------------+--------------------+------------------+----+\n",
      "| 2017-01-09 11:13:28|  2017-01-09 11:25:45|          3.3| 0.20472222222222222|16.119402985074625|  11|\n",
      "| 2017-01-09 11:32:27|  2017-01-09 11:36:01|          0.9|0.059444444444444446| 15.14018691588785|  11|\n",
      "| 2017-01-09 11:38:20|  2017-01-09 11:42:05|          1.1|              0.0625|              17.6|  11|\n",
      "| 2017-01-09 11:52:13|  2017-01-09 11:57:36|          1.1| 0.08972222222222222|12.260061919504645|  11|\n",
      "| 2017-01-01 00:00:02|  2017-01-01 00:03:50|          0.5| 0.06333333333333334| 7.894736842105263|   0|\n",
      "| 2017-01-01 00:00:02|  2017-01-01 00:39:22|         7.75|  0.6555555555555556|11.822033898305085|   0|\n",
      "| 2017-01-01 00:00:03|  2017-01-01 00:06:58|          0.8| 0.11527777777777778|6.9397590361445785|   0|\n",
      "| 2017-01-01 00:00:05|  2017-01-01 00:08:33|          0.9|  0.1411111111111111| 6.377952755905512|   0|\n",
      "| 2017-01-01 00:00:05|  2017-01-01 00:05:04|         1.76| 0.08305555555555555|21.190635451505017|   0|\n",
      "| 2017-01-01 00:00:05|  2017-01-01 00:15:36|         8.47|  0.2586111111111111| 32.75187969924812|   0|\n",
      "| 2017-01-01 00:00:06|  2017-01-01 00:11:56|          2.4| 0.19722222222222222|12.169014084507042|   0|\n",
      "| 2017-01-01 00:00:06|  2017-01-01 00:23:37|         12.6| 0.39194444444444443|32.147413182140326|   0|\n",
      "| 2017-01-01 00:00:06|  2017-01-01 00:08:53|          0.9|  0.1463888888888889| 6.148007590132827|   0|\n",
      "| 2017-01-01 00:00:06|  2017-01-01 00:09:30|         2.43| 0.15666666666666668| 15.51063829787234|   0|\n",
      "| 2017-01-01 00:00:06|  2017-01-01 00:16:05|          2.6|  0.2663888888888889| 9.760166840458812|   0|\n",
      "| 2017-01-01 00:00:06|  2017-01-01 00:18:12|         4.25|  0.3016666666666667|14.088397790055247|   0|\n",
      "| 2017-01-01 00:00:07|  2017-01-01 00:07:42|         0.65| 0.12638888888888888| 5.142857142857143|   0|\n",
      "| 2017-01-01 00:00:09|  2017-01-01 00:34:21|         3.42|                0.57|               6.0|   0|\n",
      "| 2017-01-01 00:00:10|  2017-01-01 00:24:52|          6.6|  0.4116666666666667| 16.03238866396761|   0|\n",
      "| 2017-01-01 00:00:10|  2017-01-01 00:02:49|          0.5| 0.04416666666666667|11.320754716981131|   0|\n",
      "+--------------------+---------------------+-------------+--------------------+------------------+----+\n",
      "only showing top 20 rows\n",
      "\n"
     ]
    }
   ],
   "source": [
    "df_limited_2.show()"
   ]
  },
  {
   "cell_type": "code",
   "execution_count": 13,
   "id": "f2cfeb37-00b5-4a80-ac3c-f15d93e7f8ab",
   "metadata": {},
   "outputs": [],
   "source": [
    "df_limited_3=df_limited_2.select(\"velocidad\",\"hora\").groupby(\"hora\").mean()"
   ]
  },
  {
   "cell_type": "code",
   "execution_count": 14,
   "id": "20243528-3c12-4587-bf80-ee033f1a412d",
   "metadata": {},
   "outputs": [],
   "source": [
    "df_limited_3=df_limited_3.sort(df_limited_3[\"avg(hora)\"].desc())"
   ]
  },
  {
   "cell_type": "code",
   "execution_count": 21,
   "id": "8cdf3ef9-ee25-4bec-b365-d649ec168a9c",
   "metadata": {},
   "outputs": [
    {
     "ename": "NameError",
     "evalue": "name 'time' is not defined",
     "output_type": "error",
     "traceback": [
      "\u001b[0;31m---------------------------------------------------------------------------\u001b[0m",
      "\u001b[0;31mNameError\u001b[0m                                 Traceback (most recent call last)",
      "Cell \u001b[0;32mIn[21], line 2\u001b[0m\n\u001b[1;32m      1\u001b[0m \u001b[38;5;66;03m#Terminar de medir el tiempo\u001b[39;00m\n\u001b[0;32m----> 2\u001b[0m end_time \u001b[38;5;241m=\u001b[39m \u001b[43mtime\u001b[49m\u001b[38;5;241m.\u001b[39mtime()\n\u001b[1;32m      4\u001b[0m \u001b[38;5;66;03m# Calcular tiempo de ejecución y velocidad de procesamiento\u001b[39;00m\n\u001b[1;32m      5\u001b[0m tiempo_ejecucion \u001b[38;5;241m=\u001b[39m end_time \u001b[38;5;241m-\u001b[39m start_time\n",
      "\u001b[0;31mNameError\u001b[0m: name 'time' is not defined"
     ]
    }
   ],
   "source": [
    "#Terminar de medir el tiempo\n",
    "end_time = time.time()\n",
    "\n",
    "# Calcular tiempo de ejecución y velocidad de procesamiento\n",
    "tiempo_ejecucion = end_time - start_time\n",
    "velocidad_procesamiento = num_viajes / tiempo_ejecucion\n",
    "\n",
    "print(f\"Tiempo de ejecución: {tiempo_ejecucion:.2f} segundos.\")\n",
    "print(f\"Velocidad de procesamiento: {velocidad_procesamiento:.2f} viajes por segundo.\")"
   ]
  },
  {
   "cell_type": "code",
   "execution_count": 15,
   "id": "86b40e94-4064-4f27-977c-8e02d6e3fef7",
   "metadata": {},
   "outputs": [],
   "source": [
    "df_panda=df_limited_3.toPandas()"
   ]
  },
  {
   "cell_type": "code",
   "execution_count": 18,
   "id": "59d5e3d4-3d8b-4ab8-aa53-960140f41e13",
   "metadata": {},
   "outputs": [
    {
     "data": {
      "image/png": "[encoded data removed]",
      "text/plain": [
       "<Figure size 500x300 with 1 Axes>"
      ]
     },
     "metadata": {},
     "output_type": "display_data"
    }
   ],
   "source": [
    "plt.figure(figsize=(5, 3))  # Adjusting the figure size\n",
    "plt.bar(df_panda[\"hora\"], df_panda[\"avg(velocidad)\"])\n",
    "plt.xlabel('Hour of the Day')\n",
    "plt.ylabel('Average Speed (mph)')\n",
    "plt.title('Average Taxi Speed by Hour')\n",
    "plt.show()"
   ]
  },
  {
   "cell_type": "code",
   "execution_count": null,
   "id": "e1e6e8d4-f8d3-41b8-bc56-79f68b354f0b",
   "metadata": {},
   "outputs": [],
   "source": []
  },
  {
   "cell_type": "code",
   "execution_count": null,
   "id": "371bd857-889d-4aa7-b076-16710bbbd3c4",
   "metadata": {},
   "outputs": [],
   "source": []
  }
 ],
 "metadata": {
  "kernelspec": {
   "display_name": "Python 3 (ipykernel)",
   "language": "python",
   "name": "python3"
  },
  "language_info": {
   "codemirror_mode": {
    "name": "ipython",
    "version": 3
   },
   "file_extension": ".py",
   "mimetype": "text/x-python",
   "name": "python",
   "nbconvert_exporter": "python",
   "pygments_lexer": "ipython3",
   "version": "3.11.5"
  }
 },
 "nbformat": 4,
 "nbformat_minor": 5
}

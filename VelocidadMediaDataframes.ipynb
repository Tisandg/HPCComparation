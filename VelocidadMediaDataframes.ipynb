{
 "cells": [
  {
   "cell_type": "code",
   "execution_count": 8,
   "id": "3b61095d-74e0-4d46-9f63-5b19e6decbfc",
   "metadata": {
    "scrolled": true
   },
   "outputs": [
    {
     "data": {
      "text/html": [
       "\n",
       "            <div>\n",
       "                <p><b>SparkSession - in-memory</b></p>\n",
       "                \n",
       "        <div>\n",
       "            <p><b>SparkContext</b></p>\n",
       "\n",
       "            <p><a href=\"http://13e690c2a086:4041\">Spark UI</a></p>\n",
       "\n",
       "            <dl>\n",
       "              <dt>Version</dt>\n",
       "                <dd><code>v3.5.0</code></dd>\n",
       "              <dt>Master</dt>\n",
       "                <dd><code>local[*]</code></dd>\n",
       "              <dt>AppName</dt>\n",
       "                <dd><code>pyspark-shell</code></dd>\n",
       "            </dl>\n",
       "        </div>\n",
       "        \n",
       "            </div>\n",
       "        "
      ],
      "text/plain": [
       "<pyspark.sql.session.SparkSession at 0x7f36cdf15250>"
      ]
     },
     "execution_count": 8,
     "metadata": {},
     "output_type": "execute_result"
    }
   ],
   "source": [
    "from pyspark.sql import SparkSession\n",
    "from pyspark import SparkContext, SparkConf\n",
    "from pyspark.sql.functions import unix_timestamp, hour\n",
    "import matplotlib.pyplot as plt\n",
    "import pandas as pd\n",
    "import pyarrow.parquet as pq\n",
    "import time\n",
    "\n",
    "spark = SparkSession.builder.master('local[*]').getOrCreate()\n",
    "\n",
    "\n",
    "sc = spark.sparkContext\n",
    "\n",
    "spark"
   ]
  },
  {
   "cell_type": "code",
   "execution_count": 9,
   "id": "f0a92c24-07a0-40ea-a5e5-058d31f9cb5e",
   "metadata": {},
   "outputs": [
    {
     "name": "stdout",
     "output_type": "stream",
     "text": [
      "Your runtime has 11.6 gigabytes of available RAM\n",
      "\n"
     ]
    }
   ],
   "source": [
    "from psutil import virtual_memory\n",
    "ram_gb = virtual_memory().total / 1e9\n",
    "print('Your runtime has {:.1f} gigabytes of available RAM\\n'.format(ram_gb))"
   ]
  },
  {
   "cell_type": "code",
   "execution_count": 14,
   "id": "25836aa2-1803-4021-b1d6-c6ac94990843",
   "metadata": {},
   "outputs": [],
   "source": [
    "# Comenzar a medir el tiempo\n",
    "start_time = time.time()\n",
    "# Cargar los datos\n",
    "df = spark.read.format(\"parquet\").option(\"inferSchema\", \"true\").option(\"timestampFormat\",\"yyyy-MM-dd HH:mm:ss\").option(\"header\", \"true\").option(\"mode\", \"DROPMALFORMED\").load(\"yellow_tripdata_2017-01.parquet\")\n",
    "num_viajes = df.count()"
   ]
  },
  {
   "cell_type": "code",
   "execution_count": 15,
   "id": "c0b80cda-0c3d-4cb8-b536-aaedeab4376d",
   "metadata": {},
   "outputs": [
    {
     "name": "stdout",
     "output_type": "stream",
     "text": [
      "Cantidad de datos procesados: 9710820 viajes.\n"
     ]
    }
   ],
   "source": [
    "df_limited_1 = df.limit(500000)\n",
    "# Cantidad de datos procesados\n",
    "num_viajes = df.count()\n",
    "print(f\"Cantidad de datos procesados: {num_viajes} viajes.\")"
   ]
  },
  {
   "cell_type": "code",
   "execution_count": 16,
   "id": "5869c673-8798-4887-b00b-b1aa7e22b4ac",
   "metadata": {},
   "outputs": [],
   "source": [
    "df_limited_2 = df_limited_1[\"tpep_pickup_datetime\",\"tpep_dropoff_datetime\",\"trip_distance\"]"
   ]
  },
  {
   "cell_type": "code",
   "execution_count": 17,
   "id": "a4c360ac-7ada-409d-83f1-caeef2d3e80f",
   "metadata": {},
   "outputs": [
    {
     "name": "stdout",
     "output_type": "stream",
     "text": [
      "+--------------------+---------------------+-------------+\n",
      "|tpep_pickup_datetime|tpep_dropoff_datetime|trip_distance|\n",
      "+--------------------+---------------------+-------------+\n",
      "| 2017-01-01 00:32:05|  2017-01-01 00:37:48|          1.2|\n",
      "| 2017-01-01 00:43:25|  2017-01-01 00:47:42|          0.7|\n",
      "| 2017-01-01 00:49:10|  2017-01-01 00:53:53|          0.8|\n",
      "| 2017-01-01 00:36:42|  2017-01-01 00:41:09|          1.1|\n",
      "| 2017-01-01 00:07:41|  2017-01-01 00:18:16|          3.0|\n",
      "| 2017-01-01 00:20:52|  2017-01-01 00:24:59|          0.7|\n",
      "| 2017-01-01 00:33:49|  2017-01-01 00:42:38|          1.6|\n",
      "| 2017-01-01 00:48:22|  2017-01-01 00:52:15|          0.6|\n",
      "| 2017-01-01 00:57:12|  2017-01-01 01:06:28|          1.0|\n",
      "| 2017-01-01 00:10:25|  2017-01-01 00:29:06|          1.0|\n",
      "| 2017-01-01 00:38:28|  2017-01-01 01:30:55|          2.5|\n",
      "| 2017-01-01 00:26:17|  2017-01-01 00:32:28|          1.1|\n",
      "| 2017-01-01 00:41:27|  2017-01-01 01:03:35|          3.3|\n",
      "| 2017-01-01 00:23:12|  2017-01-01 00:41:32|          1.9|\n",
      "| 2017-01-01 00:46:17|  2017-01-01 00:55:43|          0.5|\n",
      "| 2017-01-01 00:59:15|  2017-01-01 01:13:33|          2.8|\n",
      "| 2017-01-01 00:08:23|  2017-01-01 00:21:33|          1.9|\n",
      "| 2017-01-01 00:23:13|  2017-01-01 00:34:48|          3.0|\n",
      "| 2017-01-01 00:39:18|  2017-01-01 00:49:08|          1.1|\n",
      "| 2017-01-01 00:52:32|  2017-01-01 01:09:51|          1.3|\n",
      "+--------------------+---------------------+-------------+\n",
      "only showing top 20 rows\n",
      "\n"
     ]
    }
   ],
   "source": [
    "df_limited_2.show()"
   ]
  },
  {
   "cell_type": "code",
   "execution_count": 18,
   "id": "dad0833a-84d1-49ba-8583-c7a610f5abc6",
   "metadata": {},
   "outputs": [],
   "source": [
    "df_limited_2=df_limited_2.withColumn('duration',\n",
    "                                   (unix_timestamp(\"tpep_dropoff_datetime\") - unix_timestamp(\"tpep_pickup_datetime\"))/3600)"
   ]
  },
  {
   "cell_type": "code",
   "execution_count": 19,
   "id": "c430beb5-f3dd-4d7f-bd5c-386f68af13c2",
   "metadata": {},
   "outputs": [],
   "source": [
    "df_limited_2=df_limited_2.filter(df_limited_2[\"duration\"]>0)"
   ]
  },
  {
   "cell_type": "code",
   "execution_count": 20,
   "id": "68ba830f-8ce5-4e0e-8671-12b8f9697687",
   "metadata": {},
   "outputs": [
    {
     "name": "stdout",
     "output_type": "stream",
     "text": [
      "+--------------------+---------------------+-------------+-------------------+\n",
      "|tpep_pickup_datetime|tpep_dropoff_datetime|trip_distance|           duration|\n",
      "+--------------------+---------------------+-------------+-------------------+\n",
      "| 2017-01-01 00:32:05|  2017-01-01 00:37:48|          1.2|0.09527777777777778|\n",
      "| 2017-01-01 00:43:25|  2017-01-01 00:47:42|          0.7|0.07138888888888889|\n",
      "| 2017-01-01 00:49:10|  2017-01-01 00:53:53|          0.8|0.07861111111111112|\n",
      "| 2017-01-01 00:36:42|  2017-01-01 00:41:09|          1.1|0.07416666666666667|\n",
      "| 2017-01-01 00:07:41|  2017-01-01 00:18:16|          3.0| 0.1763888888888889|\n",
      "| 2017-01-01 00:20:52|  2017-01-01 00:24:59|          0.7|0.06861111111111111|\n",
      "| 2017-01-01 00:33:49|  2017-01-01 00:42:38|          1.6|0.14694444444444443|\n",
      "| 2017-01-01 00:48:22|  2017-01-01 00:52:15|          0.6|0.06472222222222222|\n",
      "| 2017-01-01 00:57:12|  2017-01-01 01:06:28|          1.0|0.15444444444444444|\n",
      "| 2017-01-01 00:10:25|  2017-01-01 00:29:06|          1.0| 0.3113888888888889|\n",
      "| 2017-01-01 00:38:28|  2017-01-01 01:30:55|          2.5| 0.8741666666666666|\n",
      "| 2017-01-01 00:26:17|  2017-01-01 00:32:28|          1.1|0.10305555555555555|\n",
      "| 2017-01-01 00:41:27|  2017-01-01 01:03:35|          3.3| 0.3688888888888889|\n",
      "| 2017-01-01 00:23:12|  2017-01-01 00:41:32|          1.9| 0.3055555555555556|\n",
      "| 2017-01-01 00:46:17|  2017-01-01 00:55:43|          0.5|0.15722222222222224|\n",
      "| 2017-01-01 00:59:15|  2017-01-01 01:13:33|          2.8|0.23833333333333334|\n",
      "| 2017-01-01 00:08:23|  2017-01-01 00:21:33|          1.9|0.21944444444444444|\n",
      "| 2017-01-01 00:23:13|  2017-01-01 00:34:48|          3.0|0.19305555555555556|\n",
      "| 2017-01-01 00:39:18|  2017-01-01 00:49:08|          1.1| 0.1638888888888889|\n",
      "| 2017-01-01 00:52:32|  2017-01-01 01:09:51|          1.3| 0.2886111111111111|\n",
      "+--------------------+---------------------+-------------+-------------------+\n",
      "only showing top 20 rows\n",
      "\n"
     ]
    }
   ],
   "source": [
    "df_limited_2.show()"
   ]
  },
  {
   "cell_type": "code",
   "execution_count": 21,
   "id": "5aa46a4a-aefe-48c4-a7e8-440c533dc3f7",
   "metadata": {},
   "outputs": [],
   "source": [
    "df_limited_2=df_limited_2.withColumn('velocidad', df_limited_2[\"trip_distance\"]/df_limited_2[\"duration\"])"
   ]
  },
  {
   "cell_type": "code",
   "execution_count": 22,
   "id": "e663306a-e5ce-4957-b922-59cd00f540e6",
   "metadata": {},
   "outputs": [],
   "source": [
    "df_limited_2=df_limited_2.withColumn('hora', hour(df[\"tpep_pickup_datetime\"]))"
   ]
  },
  {
   "cell_type": "code",
   "execution_count": 23,
   "id": "654553b5-e08c-427e-bc8c-fafd880c9f3b",
   "metadata": {},
   "outputs": [
    {
     "name": "stdout",
     "output_type": "stream",
     "text": [
      "+--------------------+---------------------+-------------+-------------------+------------------+----+\n",
      "|tpep_pickup_datetime|tpep_dropoff_datetime|trip_distance|           duration|         velocidad|hora|\n",
      "+--------------------+---------------------+-------------+-------------------+------------------+----+\n",
      "| 2017-01-01 00:32:05|  2017-01-01 00:37:48|          1.2|0.09527777777777778| 12.59475218658892|   0|\n",
      "| 2017-01-01 00:43:25|  2017-01-01 00:47:42|          0.7|0.07138888888888889|  9.80544747081712|   0|\n",
      "| 2017-01-01 00:49:10|  2017-01-01 00:53:53|          0.8|0.07861111111111112|10.176678445229681|   0|\n",
      "| 2017-01-01 00:36:42|  2017-01-01 00:41:09|          1.1|0.07416666666666667|14.831460674157304|   0|\n",
      "| 2017-01-01 00:07:41|  2017-01-01 00:18:16|          3.0| 0.1763888888888889| 17.00787401574803|   0|\n",
      "| 2017-01-01 00:20:52|  2017-01-01 00:24:59|          0.7|0.06861111111111111| 10.20242914979757|   0|\n",
      "| 2017-01-01 00:33:49|  2017-01-01 00:42:38|          1.6|0.14694444444444443|10.888468809073725|   0|\n",
      "| 2017-01-01 00:48:22|  2017-01-01 00:52:15|          0.6|0.06472222222222222|  9.27038626609442|   0|\n",
      "| 2017-01-01 00:57:12|  2017-01-01 01:06:28|          1.0|0.15444444444444444| 6.474820143884893|   0|\n",
      "| 2017-01-01 00:10:25|  2017-01-01 00:29:06|          1.0| 0.3113888888888889|3.2114183764495987|   0|\n",
      "| 2017-01-01 00:38:28|  2017-01-01 01:30:55|          2.5| 0.8741666666666666|2.8598665395614873|   0|\n",
      "| 2017-01-01 00:26:17|  2017-01-01 00:32:28|          1.1|0.10305555555555555|10.673854447439354|   0|\n",
      "| 2017-01-01 00:41:27|  2017-01-01 01:03:35|          3.3| 0.3688888888888889|  8.94578313253012|   0|\n",
      "| 2017-01-01 00:23:12|  2017-01-01 00:41:32|          1.9| 0.3055555555555556| 6.218181818181818|   0|\n",
      "| 2017-01-01 00:46:17|  2017-01-01 00:55:43|          0.5|0.15722222222222224|3.1802120141342756|   0|\n",
      "| 2017-01-01 00:59:15|  2017-01-01 01:13:33|          2.8|0.23833333333333334|11.748251748251747|   0|\n",
      "| 2017-01-01 00:08:23|  2017-01-01 00:21:33|          1.9|0.21944444444444444| 8.658227848101266|   0|\n",
      "| 2017-01-01 00:23:13|  2017-01-01 00:34:48|          3.0|0.19305555555555556| 15.53956834532374|   0|\n",
      "| 2017-01-01 00:39:18|  2017-01-01 00:49:08|          1.1| 0.1638888888888889| 6.711864406779662|   0|\n",
      "| 2017-01-01 00:52:32|  2017-01-01 01:09:51|          1.3| 0.2886111111111111| 4.504331087584216|   0|\n",
      "+--------------------+---------------------+-------------+-------------------+------------------+----+\n",
      "only showing top 20 rows\n",
      "\n"
     ]
    }
   ],
   "source": [
    "df_limited_2.show()"
   ]
  },
  {
   "cell_type": "code",
   "execution_count": 24,
   "id": "f2cfeb37-00b5-4a80-ac3c-f15d93e7f8ab",
   "metadata": {},
   "outputs": [],
   "source": [
    "df_limited_3=df_limited_2.select(\"velocidad\",\"hora\").groupby(\"hora\").mean()"
   ]
  },
  {
   "cell_type": "code",
   "execution_count": 25,
   "id": "20243528-3c12-4587-bf80-ee033f1a412d",
   "metadata": {},
   "outputs": [],
   "source": [
    "df_limited_3=df_limited_3.sort(df_limited_3[\"avg(hora)\"].desc())"
   ]
  },
  {
   "cell_type": "code",
   "execution_count": 26,
   "id": "8cdf3ef9-ee25-4bec-b365-d649ec168a9c",
   "metadata": {},
   "outputs": [
    {
     "name": "stdout",
     "output_type": "stream",
     "text": [
      "Tiempo de ejecución: 284.52 segundos.\n",
      "Velocidad de procesamiento: 34130.21 viajes por segundo.\n"
     ]
    }
   ],
   "source": [
    "#Terminar de medir el tiempo\n",
    "end_time = time.time()\n",
    "\n",
    "# Calcular tiempo de ejecución y velocidad de procesamiento\n",
    "tiempo_ejecucion = end_time - start_time\n",
    "velocidad_procesamiento = num_viajes / tiempo_ejecucion\n",
    "\n",
    "print(f\"Tiempo de ejecución: {tiempo_ejecucion:.2f} segundos.\")\n",
    "print(f\"Velocidad de procesamiento: {velocidad_procesamiento:.2f} viajes por segundo.\")"
   ]
  },
  {
   "cell_type": "code",
   "execution_count": 27,
   "id": "86b40e94-4064-4f27-977c-8e02d6e3fef7",
   "metadata": {},
   "outputs": [],
   "source": [
    "df_panda=df_limited_3.toPandas()"
   ]
  },
  {
   "cell_type": "code",
   "execution_count": 28,
   "id": "59d5e3d4-3d8b-4ab8-aa53-960140f41e13",
   "metadata": {},
   "outputs": [
    {
     "data": {
      "image/png": "[encoded data removed]",
      "text/plain": [
       "<Figure size 500x300 with 1 Axes>"
      ]
     },
     "metadata": {},
     "output_type": "display_data"
    }
   ],
   "source": [
    "plt.figure(figsize=(5, 3))  # Adjusting the figure size\n",
    "plt.bar(df_panda[\"hora\"], df_panda[\"avg(velocidad)\"])\n",
    "plt.xlabel('Hour of the Day')\n",
    "plt.ylabel('Average Speed (mph)')\n",
    "plt.title('Average Taxi Speed by Hour')\n",
    "plt.show()"
   ]
  },
  {
   "cell_type": "code",
   "execution_count": null,
   "id": "d0c13e36-079c-4783-ae8c-c16b9675bce5",
   "metadata": {},
   "outputs": [],
   "source": []
  },
  {
   "cell_type": "code",
   "execution_count": null,
   "id": "b86d2e61-bfda-4907-a038-8e48476b9a17",
   "metadata": {},
   "outputs": [],
   "source": []
  },
  {
   "cell_type": "code",
   "execution_count": null,
   "id": "6d3618f7-23c9-4c06-ad2c-809ef6dcf221",
   "metadata": {},
   "outputs": [],
   "source": []
  }
 ],
 "metadata": {
  "kernelspec": {
   "display_name": "Python 3 (ipykernel)",
   "language": "python",
   "name": "python3"
  },
  "language_info": {
   "codemirror_mode": {
    "name": "ipython",
    "version": 3
   },
   "file_extension": ".py",
   "mimetype": "text/x-python",
   "name": "python",
   "nbconvert_exporter": "python",
   "pygments_lexer": "ipython3",
   "version": "3.11.5"
  }
 },
 "nbformat": 4,
 "nbformat_minor": 5
}

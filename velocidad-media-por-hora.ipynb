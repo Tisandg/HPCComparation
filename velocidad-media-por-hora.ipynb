{
 "cells": [
  {
   "cell_type": "code",
   "execution_count": 1,
   "id": "4a9eaeb1-eff3-4894-978e-2f9a9b77acd3",
   "metadata": {},
   "outputs": [
    {
     "data": {
      "text/html": [
       "\n",
       "            <div>\n",
       "                <p><b>SparkSession - in-memory</b></p>\n",
       "                \n",
       "        <div>\n",
       "            <p><b>SparkContext</b></p>\n",
       "\n",
       "            <p><a href=\"http://036d50c64696:4040\">Spark UI</a></p>\n",
       "\n",
       "            <dl>\n",
       "              <dt>Version</dt>\n",
       "                <dd><code>v3.5.0</code></dd>\n",
       "              <dt>Master</dt>\n",
       "                <dd><code>local[*]</code></dd>\n",
       "              <dt>AppName</dt>\n",
       "                <dd><code>pyspark-shell</code></dd>\n",
       "            </dl>\n",
       "        </div>\n",
       "        \n",
       "            </div>\n",
       "        "
      ],
      "text/plain": [
       "<pyspark.sql.session.SparkSession at 0xffff8029b390>"
      ]
     },
     "execution_count": 1,
     "metadata": {},
     "output_type": "execute_result"
    }
   ],
   "source": [
    "#Reset kernel when start this notebook\n",
    "from pyspark.sql import SparkSession\n",
    "from pyspark import SparkContext, SparkConf\n",
    "\n",
    "spark = SparkSession.builder.master('local[*]').getOrCreate()\n",
    "\n",
    "sc = spark.sparkContext\n",
    "\n",
    "spark"
   ]
  },
  {
   "cell_type": "code",
   "execution_count": 2,
   "id": "ab8e5771-b4bf-419c-9a3f-c7a4e96b9c33",
   "metadata": {},
   "outputs": [
    {
     "name": "stdout",
     "output_type": "stream",
     "text": [
      "Your runtime has 16.8 gigabytes of available RAM\n",
      "\n"
     ]
    }
   ],
   "source": [
    "from psutil import virtual_memory\n",
    "ram_gb = virtual_memory().total / 1e9\n",
    "print('Your runtime has {:.1f} gigabytes of available RAM\\n'.format(ram_gb))"
   ]
  },
  {
   "cell_type": "code",
   "execution_count": 6,
   "id": "d0b2a554-8259-458a-8174-0ab29605dab2",
   "metadata": {},
   "outputs": [
    {
     "data": {
      "text/plain": [
       "8"
      ]
     },
     "execution_count": 6,
     "metadata": {},
     "output_type": "execute_result"
    }
   ],
   "source": [
    "spark.sparkContext.defaultParallelism"
   ]
  },
  {
   "cell_type": "code",
   "execution_count": 7,
   "id": "d0405260-7681-4f6a-a7fe-a61c4bfadb06",
   "metadata": {},
   "outputs": [],
   "source": [
    "df = spark.read.format(\"parquet\").option(\"inferSchema\", \"true\").option(\"timestampFormat\",\"yyyy-MM-dd HH:mm:ss\").option(\"header\", \"true\").option(\"mode\", \"DROPMALFORMED\").load(\"content/yellow_tripdata_2017-01.parquet\")"
   ]
  },
  {
   "cell_type": "code",
   "execution_count": 8,
   "id": "2630d3d2-875b-4ae2-aca8-2035a35d3a24",
   "metadata": {},
   "outputs": [
    {
     "data": {
      "text/plain": [
       "9710820"
      ]
     },
     "execution_count": 8,
     "metadata": {},
     "output_type": "execute_result"
    }
   ],
   "source": [
    "df.rdd.count()"
   ]
  },
  {
   "cell_type": "code",
   "execution_count": 9,
   "id": "14295384-f0c2-4349-a9da-fe308eaf4e79",
   "metadata": {},
   "outputs": [],
   "source": [
    "filtered = df.rdd.filter(lambda x: x[1] is not None and x[2] is not None and x[4] is not None).filter(lambda x: (x[2] - x[1]).seconds > 0)"
   ]
  },
  {
   "cell_type": "code",
   "execution_count": 10,
   "id": "96b47991-31d5-4325-bbb6-7850fe7fe104",
   "metadata": {},
   "outputs": [],
   "source": [
    "mapped = filtered.map(lambda x: (x[1].hour, (x[4]/(((x[2] - x[1]).seconds)/3600), 1)))"
   ]
  },
  {
   "cell_type": "code",
   "execution_count": 11,
   "id": "7e2de489-0084-4332-875f-4a003fdcc23a",
   "metadata": {},
   "outputs": [],
   "source": [
    "result = mapped.reduceByKey(lambda x, y: (x[0] + y[0], x[1] + y[1]))"
   ]
  },
  {
   "cell_type": "code",
   "execution_count": 12,
   "id": "19a300d8-8595-465a-8d54-f9a3954161ea",
   "metadata": {},
   "outputs": [
    {
     "data": {
      "text/plain": [
       "[(0, (5414162.309641142, 315964)),\n",
       " (1, (4270126.96305057, 241135)),\n",
       " (2, (3377608.958453877, 187586)),\n",
       " (3, (2518798.78802453, 138729)),\n",
       " (4, (2196336.6165762604, 105769)),\n",
       " (5, (2320946.31090887, 103011)),\n",
       " (6, (3970573.757003464, 219829)),\n",
       " (7, (5089813.79451558, 371686)),\n",
       " (8, (5291352.552403971, 453258)),\n",
       " (9, (5289697.083458636, 450592)),\n",
       " (10, (5320581.825946025, 436412)),\n",
       " (11, (5470946.657648884, 457051)),\n",
       " (12, (5908070.528578324, 490381)),\n",
       " (13, (6219085.433525098, 495899)),\n",
       " (14, (6168205.592846137, 519463)),\n",
       " (15, (6147466.963870785, 529653)),\n",
       " (16, (6030333.506517751, 486638)),\n",
       " (17, (6325827.323365864, 540032)),\n",
       " (18, (7146001.153469369, 615740)),\n",
       " (19, (7415741.855794768, 590990)),\n",
       " (20, (7436755.1435884815, 534508)),\n",
       " (21, (7927195.430849889, 524051)),\n",
       " (22, (7831092.30898836, 495057)),\n",
       " (23, (6834603.797282512, 398047))]"
      ]
     },
     "execution_count": 12,
     "metadata": {},
     "output_type": "execute_result"
    }
   ],
   "source": [
    "result.sortBy(lambda x: x[0], True).take(24)"
   ]
  },
  {
   "cell_type": "code",
   "execution_count": 13,
   "id": "64282495-c0c0-4df8-818f-3e00c4d89e7d",
   "metadata": {},
   "outputs": [
    {
     "data": {
      "text/plain": [
       "[(0, 17.135377162085373),\n",
       " (1, 17.7084494704235),\n",
       " (2, 18.005655850937046),\n",
       " (3, 18.156252751944653),\n",
       " (4, 20.76540968125122),\n",
       " (5, 22.53105310024046),\n",
       " (6, 18.062101710891028),\n",
       " (7, 13.693853937236215),\n",
       " (8, 11.674041169497219),\n",
       " (9, 11.739438524116354),\n",
       " (10, 12.19164877672022),\n",
       " (11, 11.970101055787831),\n",
       " (12, 12.047918921365886),\n",
       " (13, 12.541032414917348),\n",
       " (14, 11.874196223496451),\n",
       " (15, 11.60659330518431),\n",
       " (16, 12.391826175756417),\n",
       " (17, 11.713800892106143),\n",
       " (18, 11.605549669453614),\n",
       " (19, 12.547998876114262),\n",
       " (20, 13.913271912840372),\n",
       " (21, 15.1267632937441),\n",
       " (22, 15.818566971052546),\n",
       " (23, 17.170343696303483)]"
      ]
     },
     "execution_count": 13,
     "metadata": {},
     "output_type": "execute_result"
    }
   ],
   "source": [
    "result.map(lambda x: (x[0], x[1][0] / x[1][1] )).sortBy(lambda x: x[0], True).take(24)"
   ]
  },
  {
   "cell_type": "code",
   "execution_count": null,
   "id": "46511d5a-a792-4aa4-806c-1c551d8e10ec",
   "metadata": {},
   "outputs": [],
   "source": []
  }
 ],
 "metadata": {
  "kernelspec": {
   "display_name": "Python 3 (ipykernel)",
   "language": "python",
   "name": "python3"
  },
  "language_info": {
   "codemirror_mode": {
    "name": "ipython",
    "version": 3
   },
   "file_extension": ".py",
   "mimetype": "text/x-python",
   "name": "python",
   "nbconvert_exporter": "python",
   "pygments_lexer": "ipython3",
   "version": "3.11.5"
  }
 },
 "nbformat": 4,
 "nbformat_minor": 5
}

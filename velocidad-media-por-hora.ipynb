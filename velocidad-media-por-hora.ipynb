{
 "cells": [
  {
   "cell_type": "code",
   "execution_count": 1,
   "id": "4a9eaeb1-eff3-4894-978e-2f9a9b77acd3",
   "metadata": {},
   "outputs": [
    {
     "data": {
      "text/html": [
       "\n",
       "            <div>\n",
       "                <p><b>SparkSession - in-memory</b></p>\n",
       "                \n",
       "        <div>\n",
       "            <p><b>SparkContext</b></p>\n",
       "\n",
       "            <p><a href=\"http://036d50c64696:4041\">Spark UI</a></p>\n",
       "\n",
       "            <dl>\n",
       "              <dt>Version</dt>\n",
       "                <dd><code>v3.5.0</code></dd>\n",
       "              <dt>Master</dt>\n",
       "                <dd><code>local[*]</code></dd>\n",
       "              <dt>AppName</dt>\n",
       "                <dd><code>pyspark-shell</code></dd>\n",
       "            </dl>\n",
       "        </div>\n",
       "        \n",
       "            </div>\n",
       "        "
      ],
      "text/plain": [
       "<pyspark.sql.session.SparkSession at 0xffff536c1410>"
      ]
     },
     "execution_count": 1,
     "metadata": {},
     "output_type": "execute_result"
    }
   ],
   "source": [
    "#Reset kernel when start this notebook\n",
    "from pyspark.sql import SparkSession\n",
    "from pyspark import SparkContext, SparkConf\n",
    "\n",
    "spark = SparkSession.builder.master('local[*]').getOrCreate()\n",
    "\n",
    "sc = spark.sparkContext\n",
    "\n",
    "spark"
   ]
  },
  {
   "cell_type": "code",
   "execution_count": 62,
   "id": "d0405260-7681-4f6a-a7fe-a61c4bfadb06",
   "metadata": {},
   "outputs": [],
   "source": [
    "df = spark.read.format(\"csv\").option(\"inferSchema\", \"true\").option(\"timestampFormat\",\"yyyy-MM-dd HH:mm:ss\").option(\"header\", \"true\").option(\"mode\", \"DROPMALFORMED\").load(\"content/tripdata_2017-01.csv\")"
   ]
  },
  {
   "cell_type": "code",
   "execution_count": 4,
   "id": "89a33ddd-990b-4411-b71f-3557b29a1fef",
   "metadata": {},
   "outputs": [
    {
     "data": {
      "text/plain": [
       "[Row(VendorID=1, tpep_pickup_datetime=datetime.datetime(2017, 1, 9, 11, 13, 28), tpep_dropoff_datetime=datetime.datetime(2017, 1, 9, 11, 25, 45), passenger_count=1, trip_distance=3.3, RatecodeID=1, store_and_fwd_flag='N', PULocationID=263, DOLocationID=161, payment_type=1, fare_amount=12.5, extra=0.0, mta_tax=0.5, tip_amount=2.0, tolls_amount=0.0, improvement_surcharge=0.3, total_amount=15.3)]"
      ]
     },
     "execution_count": 4,
     "metadata": {},
     "output_type": "execute_result"
    }
   ],
   "source": [
    "df.rdd.take(1)"
   ]
  },
  {
   "cell_type": "code",
   "execution_count": 58,
   "id": "7bbd2511-18a2-4b02-82e4-b47a79bf87e8",
   "metadata": {},
   "outputs": [
    {
     "data": {
      "text/plain": [
       "[(79, 40918),\n",
       " (230, 34460),\n",
       " (48, 33407),\n",
       " (186, 32940),\n",
       " (234, 30479),\n",
       " (161, 29329),\n",
       " (170, 28218),\n",
       " (237, 28193),\n",
       " (142, 26926),\n",
       " (236, 26652)]"
      ]
     },
     "execution_count": 58,
     "metadata": {},
     "output_type": "execute_result"
    }
   ],
   "source": [
    "df.rdd.map(lambda x: x[7]).map(lambda x: (x, 1)).reduceByKey(lambda x, y: x + y).sortBy(lambda x: x[1], False).take(10)"
   ]
  },
  {
   "cell_type": "code",
   "execution_count": 59,
   "id": "b62cdbc2-e15a-432a-8103-01fb2cb85b01",
   "metadata": {},
   "outputs": [
    {
     "data": {
      "text/plain": [
       "[11]"
      ]
     },
     "execution_count": 59,
     "metadata": {},
     "output_type": "execute_result"
    }
   ],
   "source": [
    "df.rdd.map(lambda x: x[1].hour).take(1)"
   ]
  },
  {
   "cell_type": "code",
   "execution_count": 104,
   "id": "14295384-f0c2-4349-a9da-fe308eaf4e79",
   "metadata": {},
   "outputs": [],
   "source": [
    "filtered = df.rdd.filter(lambda x: x[1] is not None and x[2] is not None and x[4] is not None).filter(lambda x: (x[2] - x[1]).seconds > 0)"
   ]
  },
  {
   "cell_type": "code",
   "execution_count": 124,
   "id": "96b47991-31d5-4325-bbb6-7850fe7fe104",
   "metadata": {},
   "outputs": [],
   "source": [
    "mapped = filtered.map(lambda x: (x[1].hour, (round(x[4]/(((x[2] - x[1]).seconds)/3600), 2), 1)))"
   ]
  },
  {
   "cell_type": "code",
   "execution_count": 125,
   "id": "4e11b17a-5de1-49f1-a6ca-8d258b189237",
   "metadata": {},
   "outputs": [
    {
     "data": {
      "text/plain": [
       "[(11, (16.12, 1)),\n",
       " (11, (15.14, 1)),\n",
       " (11, (17.6, 1)),\n",
       " (11, (12.26, 1)),\n",
       " (0, (7.89, 1)),\n",
       " (0, (11.82, 1)),\n",
       " (0, (6.94, 1)),\n",
       " (0, (6.38, 1)),\n",
       " (0, (21.19, 1)),\n",
       " (0, (32.75, 1))]"
      ]
     },
     "execution_count": 125,
     "metadata": {},
     "output_type": "execute_result"
    }
   ],
   "source": [
    "mapped.take(10)"
   ]
  },
  {
   "cell_type": "code",
   "execution_count": null,
   "id": "6146c212-b6c0-473f-b8a0-4a25243186b3",
   "metadata": {},
   "outputs": [],
   "source": []
  },
  {
   "cell_type": "code",
   "execution_count": 127,
   "id": "7e2de489-0084-4332-875f-4a003fdcc23a",
   "metadata": {},
   "outputs": [],
   "source": [
    "result = mapped.reduceByKey(lambda x, y: (x[0] + y[0], x[1] + y[1]))"
   ]
  },
  {
   "cell_type": "code",
   "execution_count": 131,
   "id": "64282495-c0c0-4df8-818f-3e00c4d89e7d",
   "metadata": {},
   "outputs": [
    {
     "data": {
      "text/plain": [
       "[(0, 15.77269862499405),\n",
       " (1, 14.893820369745224),\n",
       " (2, 15.756142360064649),\n",
       " (3, 17.52552260175904),\n",
       " (4, 20.431065719360596),\n",
       " (5, 22.738685249526185),\n",
       " (6, 19.460559736050012),\n",
       " (7, 14.693573043512679),\n",
       " (8, 14.160713046325105),\n",
       " (9, 13.465949734596334),\n",
       " (10, 14.408588508538111),\n",
       " (11, 13.260461307752731),\n",
       " (12, 13.200534720701002),\n",
       " (13, 12.857011267107083),\n",
       " (14, 14.23640506498278),\n",
       " (15, 12.733836160782529),\n",
       " (16, 16.185624409110382),\n",
       " (17, 13.222246619547837),\n",
       " (18, 13.14339796215427),\n",
       " (19, 15.387991450938916),\n",
       " (20, 14.675617669704746),\n",
       " (21, 15.237855983886298),\n",
       " (22, 17.185417126697224),\n",
       " (23, 19.342074761502978)]"
      ]
     },
     "execution_count": 131,
     "metadata": {},
     "output_type": "execute_result"
    }
   ],
   "source": [
    "result.map(lambda x: (x[0], x[1][0] / x[1][1] )).sortBy(lambda x: x[0], True).take(24)"
   ]
  },
  {
   "cell_type": "code",
   "execution_count": null,
   "id": "46511d5a-a792-4aa4-806c-1c551d8e10ec",
   "metadata": {},
   "outputs": [],
   "source": []
  }
 ],
 "metadata": {
  "kernelspec": {
   "display_name": "Python 3 (ipykernel)",
   "language": "python",
   "name": "python3"
  },
  "language_info": {
   "codemirror_mode": {
    "name": "ipython",
    "version": 3
   },
   "file_extension": ".py",
   "mimetype": "text/x-python",
   "name": "python",
   "nbconvert_exporter": "python",
   "pygments_lexer": "ipython3",
   "version": "3.11.5"
  }
 },
 "nbformat": 4,
 "nbformat_minor": 5
}
